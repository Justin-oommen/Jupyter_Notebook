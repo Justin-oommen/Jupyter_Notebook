{
 "cells": [
  {
   "cell_type": "markdown",
   "id": "93182567",
   "metadata": {},
   "source": [
    "Newton's second law of motion for the motion of a ball  \n",
    "$$y(t)= v_0t - 1/2gt^2$$"
   ]
  },
  {
   "cell_type": "markdown",
   "id": "ac58d6c0",
   "metadata": {},
   "source": [
    "The use of variables $v_0,t,g,y$"
   ]
  },
  {
   "cell_type": "code",
   "execution_count": 4,
   "id": "a3d66a59",
   "metadata": {},
   "outputs": [],
   "source": [
    "# Program for computing the height of a ball in vertical motion\n",
    "v0 = 5 # initial velocity\n",
    "g = 9.81 # acceleration due to gravity\n",
    "t = 0.6 # time\n",
    "y = v0*t - 0.5*g*t**2 #vertical position"
   ]
  },
  {
   "cell_type": "code",
   "execution_count": 3,
   "id": "389045e8",
   "metadata": {},
   "outputs": [
    {
     "name": "stdout",
     "output_type": "stream",
     "text": [
      "1.2342\n"
     ]
    }
   ],
   "source": [
    "print(y)"
   ]
  },
  {
   "cell_type": "markdown",
   "id": "9ace6223",
   "metadata": {},
   "source": [
    "Certain words are reserved in python and they cannot be used as variables in the code and they are:  \n",
    "**and , as , assert , break , class , continue , def , del , elif , else , except , False , finally , for , from , global , if , import , in , is , lambda , None , nonlocal , not , or , pass , raise , return , True , try , with , while , and yield .**"
   ]
  },
  {
   "cell_type": "markdown",
   "id": "9c30d84b",
   "metadata": {},
   "source": [
    "Program files can have a freely chosen name, but stay away from names that coincide with keywords or module names in Python. For instance, do not use    \n",
    "**math.py , time.py , random.py , os.py , sys.py , while.py , for.py , if.py , class.py , or def.py**"
   ]
  },
  {
   "cell_type": "markdown",
   "id": "cdecaca3",
   "metadata": {},
   "source": [
    "### Formatting text and numbers"
   ]
  },
  {
   "cell_type": "code",
   "execution_count": 9,
   "id": "47ef253e",
   "metadata": {},
   "outputs": [
    {
     "name": "stdout",
     "output_type": "stream",
     "text": [
      "At t=0.6 s, the height of the ball is 1.23 m\n"
     ]
    }
   ],
   "source": [
    "#printf method\n",
    "print (\"At t=%g s, the height of the ball is %.2f m\" %(t,y))"
   ]
  },
  {
   "cell_type": "code",
   "execution_count": 17,
   "id": "649b1f20",
   "metadata": {},
   "outputs": [
    {
     "name": "stdout",
     "output_type": "stream",
     "text": [
      "\n",
      "At t=0.6 s, a ball with\n",
      "intital velocity v0=5.000E+00 m/s\n",
      "is located at the height 1.234 m.\n",
      "\n"
     ]
    }
   ],
   "source": [
    "print(\"\"\"\n",
    "At t=%g s, a ball with\n",
    "intital velocity v0=%.3E m/s\n",
    "is located at the height %.3f m.\n",
    "\"\"\" % (t,v0,y))"
   ]
  },
  {
   "cell_type": "code",
   "execution_count": 19,
   "id": "6b2c5d3d",
   "metadata": {},
   "outputs": [
    {
     "name": "stdout",
     "output_type": "stream",
     "text": [
      "At t = 0.6 s, the height of the ball is 1.23 m\n"
     ]
    }
   ],
   "source": [
    "#Format string synatx\n",
    "print(\"At t = {:g} s, the height of the ball is {:.2f} m\".format(t,y))"
   ]
  },
  {
   "cell_type": "code",
   "execution_count": 20,
   "id": "e94a3db7",
   "metadata": {},
   "outputs": [
    {
     "name": "stdout",
     "output_type": "stream",
     "text": [
      "\n",
      "At t=0.6 s, a ball with\n",
      "initial velocity v0=5.000E+00 m/s\n",
      "is located at the height 1.2342 m\n",
      "\n"
     ]
    }
   ],
   "source": [
    "print(\"\"\"\n",
    "At t={:g} s, a ball with\n",
    "initial velocity v0={:.3E} m/s\n",
    "is located at the height {:.4f} m\n",
    "\"\"\".format(t,v0,y))"
   ]
  },
  {
   "cell_type": "code",
   "execution_count": 21,
   "id": "f8ac45cb",
   "metadata": {},
   "outputs": [
    {
     "name": "stdout",
     "output_type": "stream",
     "text": [
      "the new position of the ball \n",
      "is called \n",
      "y(t)\n"
     ]
    }
   ],
   "source": [
    "#new line character\n",
    "print(\"the new position of the ball \\nis called \\ny(t)\")"
   ]
  },
  {
   "cell_type": "markdown",
   "id": "f0700ced",
   "metadata": {},
   "source": [
    "### A computer Glossary  \n",
    "\n",
    "- Program and code are interchangeable terms. A code/program segment is a collection of consecutive statements from a program. Another term with similar meaning is code snippet. Many also use the word application in the same meaning as program and code. A related term is source code, which is the same as the text that constitutes the program.\n",
    "- We talk about running a program, or equivalently executing a program or executing a file. The file we execute is the file in which the program text is stored. This file is often called an executable or an application.\n",
    "- The term library is widely used for a collection of generally useful program pieces that can be applied in many different contexts. Having access to good libraries means that you do not need to program code snippets that others have already programmed (most probable in a better way!). There are huge numbers of Python libraries. In Python terminology, the libraries are composed of modules and packages.\n",
    "- math module, which contains a set of standard mathematical functions for sin x, cos x, ln x, e x , sinh x, sin \u00021 x, etc.\n",
    "- Packages are just collections of modules.\n",
    "- An error in a program is known as a bug, and the process of locating and removing bugs is called debugging.\n",
    "- it ispossible to write multiple statements on one line if the statements are separated by semi-colon.\n",
    "- Computer scientists often use the term whitespace when referring to a blank.\n"
   ]
  },
  {
   "cell_type": "markdown",
   "id": "5eae7b5a",
   "metadata": {},
   "source": [
    "### Celsius-Fahrenheit Conversion\n",
    "\n",
    "$$F = \\frac{9}{5}C + 32$$\n",
    "\n",
    "As a quite general rule of thumb, one should be careful to avoid integer division when programming mathematical formulas."
   ]
  },
  {
   "cell_type": "code",
   "execution_count": 27,
   "id": "648a85a2",
   "metadata": {},
   "outputs": [],
   "source": [
    "C = 1\n",
    "F = (9/5)*C + 32"
   ]
  },
  {
   "cell_type": "code",
   "execution_count": 29,
   "id": "127d6156",
   "metadata": {},
   "outputs": [],
   "source": [
    "C = 1\n",
    "F = (9.0/5)*C + 32"
   ]
  },
  {
   "cell_type": "code",
   "execution_count": 30,
   "id": "ec6d835b",
   "metadata": {},
   "outputs": [
    {
     "name": "stdout",
     "output_type": "stream",
     "text": [
      "\n",
      "C = 1.00\n",
      "F = 33.800\n",
      "\n"
     ]
    }
   ],
   "source": [
    "print(\"\"\"\n",
    "C = {:.2f}\n",
    "F = {:.3f}\n",
    "\"\"\".format(C,F))"
   ]
  },
  {
   "cell_type": "markdown",
   "id": "5a8522ed",
   "metadata": {},
   "source": [
    "We now ask the question:  \n",
    "How long time does it take for the ball to reach the height y c?   \n",
    "The answer is straightforward to derive.  \n",
    "When $y = y_c$ we have\n",
    "\n",
    "$$y_c = v_0t - \\frac{1}{2}gt^2$$  \n",
    "\n",
    "This is a quadratic equation therefore we must solve this with respect to t and Rearraging,$$\\frac{1}{2}gt^2 - v_0t + y_c = 0$$  \n",
    "and solving it gives is $$t_1 = \\left(\\frac{v_0 - \\sqrt(v_0^2 - 2gy_c)}{g}\\right), t2= \\left(\\frac{v_0+\\sqrt(v_0^2 - 2gy_c)}{g}\\right)$$"
   ]
  },
  {
   "cell_type": "markdown",
   "id": "000b18c7",
   "metadata": {},
   "source": [
    "In Python, the square root function and lots of other mathematical functions, such as sin, cos, sinh, exp, and log, are available in a module called *math* ."
   ]
  },
  {
   "cell_type": "code",
   "execution_count": 31,
   "id": "47de5a59",
   "metadata": {},
   "outputs": [
    {
     "name": "stdout",
     "output_type": "stream",
     "text": [
      "At t1 = 0.0417064 s, and t2 = 0.977662 s, the height is 0.200 m.\n"
     ]
    }
   ],
   "source": [
    "v0 = 5\n",
    "g = 9.81\n",
    "yc = 0.2\n",
    "\n",
    "import math as m\n",
    "t1 = (v0 - m.sqrt(v0**2 - 2*g*yc))/g\n",
    "t2 = (v0 + m.sqrt(v0**2 - 2*g*yc))/g\n",
    "\n",
    "print(\"At t1 = %g s, and t2 = %g s, the height is %.3f m.\"%(t1,t2,yc))"
   ]
  },
  {
   "cell_type": "markdown",
   "id": "e41cd438",
   "metadata": {},
   "source": [
    "Evaluating sinh(x):  \n",
    "$$sinh(x) = \\frac{1}{2}(e^x-e^-x)$$"
   ]
  },
  {
   "cell_type": "code",
   "execution_count": 32,
   "id": "58df797d",
   "metadata": {},
   "outputs": [
    {
     "name": "stdout",
     "output_type": "stream",
     "text": [
      "\n",
      "r1 = 267.744894\n",
      "r2 = 267.744894\n",
      "r3 = 267.744894\n",
      "\n"
     ]
    }
   ],
   "source": [
    "#Three ways\n",
    "\n",
    "from math import sinh, exp, e, pi\n",
    "x = 2*pi\n",
    "#first method\n",
    "r1 = sinh(x)\n",
    "#second method\n",
    "r2 = 0.5*(exp(x)-exp(-x))\n",
    "#third method\n",
    "r3 = 0.5*(e**x - e**(-x))\n",
    "\n",
    "print(\"\"\"\n",
    "r1 = %f\n",
    "r2 = %f\n",
    "r3 = %f\n",
    "\"\"\"%(r1,r2,r3))"
   ]
  },
  {
   "cell_type": "markdown",
   "id": "e0975c3a",
   "metadata": {},
   "source": [
    "Here the three outputs are the same and they are done by 3 different methods.  \n",
    "But let's try to print it to 16 decimal points and see what happens!"
   ]
  },
  {
   "cell_type": "code",
   "execution_count": 33,
   "id": "3eda551a",
   "metadata": {},
   "outputs": [
    {
     "name": "stdout",
     "output_type": "stream",
     "text": [
      "\n",
      "r1 = 267.7448940410164369\n",
      "r2 = 267.7448940410164369\n",
      "r3 = 267.7448940410163232\n",
      "\n"
     ]
    }
   ],
   "source": [
    "print(\"\"\"\n",
    "r1 = %.16f\n",
    "r2 = %.16f\n",
    "r3 = %.16f\n",
    "\"\"\"%(r1,r2,r3))"
   ]
  },
  {
   "cell_type": "markdown",
   "id": "f6765aa4",
   "metadata": {},
   "source": [
    "Here r1 and r2 are equal but r3 is different!  \n",
    "Why?  \n",
    "Our program computes with real numbers, and real numbers need in general an infinite number of decimals to be represented exactly. The computer truncates the sequence of decimals because the storage is finite. In fact, it is quite standard to keep only 17 digits in a real number on a computer.  \n",
    "**Rounding errors:** errors in floating-point numbers may propagate through mathematical calculations and result in answers that are only approximations to the exact underlying mathematical values. The errors in the answers are commonly known as *rounding errors.*"
   ]
  },
  {
   "cell_type": "markdown",
   "id": "d6823706",
   "metadata": {},
   "source": [
    "### Complex numbers\n",
    "\n",
    "- Python supports computation with complex numbers. The imaginary unit is written as **j** in Python, instead of i as in mathematics.\n",
    "- remark that the number i is written as **1j , not just j**."
   ]
  },
  {
   "cell_type": "code",
   "execution_count": 39,
   "id": "b9b56d4d",
   "metadata": {},
   "outputs": [],
   "source": [
    "z1 = 2.5 + 3j\n",
    "z2 = 2"
   ]
  },
  {
   "cell_type": "code",
   "execution_count": 40,
   "id": "2fe764ba",
   "metadata": {},
   "outputs": [
    {
     "data": {
      "text/plain": [
       "(4.5+3j)"
      ]
     },
     "execution_count": 40,
     "metadata": {},
     "output_type": "execute_result"
    }
   ],
   "source": [
    "z = z1+z2\n",
    "z"
   ]
  },
  {
   "cell_type": "code",
   "execution_count": 41,
   "id": "2f70e910",
   "metadata": {},
   "outputs": [
    {
     "data": {
      "text/plain": [
       "(0.5+3j)"
      ]
     },
     "execution_count": 41,
     "metadata": {},
     "output_type": "execute_result"
    }
   ],
   "source": [
    "z = z1-z2\n",
    "z"
   ]
  },
  {
   "cell_type": "code",
   "execution_count": 43,
   "id": "dd88942c",
   "metadata": {},
   "outputs": [
    {
     "data": {
      "text/plain": [
       "(5+6j)"
      ]
     },
     "execution_count": 43,
     "metadata": {},
     "output_type": "execute_result"
    }
   ],
   "source": [
    "z = z1*z2\n",
    "z"
   ]
  },
  {
   "cell_type": "code",
   "execution_count": 44,
   "id": "e54dd4a7",
   "metadata": {},
   "outputs": [
    {
     "data": {
      "text/plain": [
       "(1.25+1.5j)"
      ]
     },
     "execution_count": 44,
     "metadata": {},
     "output_type": "execute_result"
    }
   ],
   "source": [
    "z = z1/z2\n",
    "z"
   ]
  },
  {
   "cell_type": "code",
   "execution_count": 46,
   "id": "df1f0f82",
   "metadata": {},
   "outputs": [
    {
     "data": {
      "text/plain": [
       "2.5"
      ]
     },
     "execution_count": 46,
     "metadata": {},
     "output_type": "execute_result"
    }
   ],
   "source": [
    "z1.real"
   ]
  },
  {
   "cell_type": "code",
   "execution_count": 47,
   "id": "59995af3",
   "metadata": {},
   "outputs": [
    {
     "data": {
      "text/plain": [
       "3.0"
      ]
     },
     "execution_count": 47,
     "metadata": {},
     "output_type": "execute_result"
    }
   ],
   "source": [
    "z1.imag"
   ]
  },
  {
   "cell_type": "code",
   "execution_count": 48,
   "id": "98859b52",
   "metadata": {},
   "outputs": [
    {
     "data": {
      "text/plain": [
       "(2.5-3j)"
      ]
     },
     "execution_count": 48,
     "metadata": {},
     "output_type": "execute_result"
    }
   ],
   "source": [
    "z1.conjugate()"
   ]
  },
  {
   "cell_type": "markdown",
   "id": "b8c7690c",
   "metadata": {},
   "source": [
    "sin function from the math module only works with real ( float ) arguments, not complex. A similar module, cmath , defines functions that take a complex number as argument and return a complex number as result.  \n",
    "  \n",
    "We can demonstrate using cmath module that the relation $$sin(ai)=isinh(a)$$"
   ]
  },
  {
   "cell_type": "code",
   "execution_count": 59,
   "id": "744aa4db",
   "metadata": {},
   "outputs": [],
   "source": [
    "from cmath import sin, sinh, exp, cos"
   ]
  },
  {
   "cell_type": "code",
   "execution_count": 53,
   "id": "38fd72c0",
   "metadata": {},
   "outputs": [],
   "source": [
    "z1 = sin(8j)\n",
    "z2 = 1j*sinh(8)\n"
   ]
  },
  {
   "cell_type": "code",
   "execution_count": 54,
   "id": "566d9432",
   "metadata": {},
   "outputs": [
    {
     "data": {
      "text/plain": [
       "1490.4788257895502j"
      ]
     },
     "execution_count": 54,
     "metadata": {},
     "output_type": "execute_result"
    }
   ],
   "source": [
    "z1"
   ]
  },
  {
   "cell_type": "code",
   "execution_count": 55,
   "id": "a6b3c4af",
   "metadata": {},
   "outputs": [
    {
     "data": {
      "text/plain": [
       "1490.4788257895502j"
      ]
     },
     "execution_count": 55,
     "metadata": {},
     "output_type": "execute_result"
    }
   ],
   "source": [
    "z2"
   ]
  },
  {
   "cell_type": "markdown",
   "id": "a659d13a",
   "metadata": {},
   "source": [
    "Another relation\n",
    "$$e^{iq} = cos(q) + i sin(q)$$"
   ]
  },
  {
   "cell_type": "code",
   "execution_count": 58,
   "id": "23635bec",
   "metadata": {},
   "outputs": [
    {
     "data": {
      "text/plain": [
       "(-0.14550003380861354+0.9893582466233818j)"
      ]
     },
     "execution_count": 58,
     "metadata": {},
     "output_type": "execute_result"
    }
   ],
   "source": [
    "q = 8\n",
    "exp(1j*q)"
   ]
  },
  {
   "cell_type": "code",
   "execution_count": 62,
   "id": "b3000a0f",
   "metadata": {},
   "outputs": [
    {
     "data": {
      "text/plain": [
       "(-0.14550003380861354+0.9893582466233818j)"
      ]
     },
     "execution_count": 62,
     "metadata": {},
     "output_type": "execute_result"
    }
   ],
   "source": [
    "cos(q) + 1j*sin(q)"
   ]
  },
  {
   "cell_type": "markdown",
   "id": "b9811aaf",
   "metadata": {},
   "source": [
    "TO get unified treatment of complex and real function we can use **from numpy.lib.scimath**"
   ]
  },
  {
   "cell_type": "code",
   "execution_count": 86,
   "id": "43c5b88e",
   "metadata": {},
   "outputs": [],
   "source": [
    "from numpy.lib.scimath import *"
   ]
  },
  {
   "cell_type": "code",
   "execution_count": 87,
   "id": "6bca78c4",
   "metadata": {},
   "outputs": [
    {
     "data": {
      "text/plain": [
       "2.0"
      ]
     },
     "execution_count": 87,
     "metadata": {},
     "output_type": "execute_result"
    }
   ],
   "source": [
    "sqrt(4)"
   ]
  },
  {
   "cell_type": "code",
   "execution_count": 88,
   "id": "d6caa7b0",
   "metadata": {},
   "outputs": [
    {
     "data": {
      "text/plain": [
       "1j"
      ]
     },
     "execution_count": 88,
     "metadata": {},
     "output_type": "execute_result"
    }
   ],
   "source": [
    "sqrt(-1)"
   ]
  },
  {
   "cell_type": "markdown",
   "id": "ebadfd30",
   "metadata": {},
   "source": [
    "### Symbolic computing  \n",
    "\n",
    "Python has a package SymPy for doing symbolic computing, such as symbolic (exact) integration, differentiation, equation solving, and expansion of Taylor series, to mention some common operations in mathematics.  \n",
    "it will be important to know whether *sin means the sine function from the math module, aimed at **real numbers** , or the **special sine function from sympy , aimed at **symbolic expressions**\n"
   ]
  },
  {
   "cell_type": "code",
   "execution_count": 1,
   "id": "7b7c3c0d",
   "metadata": {},
   "outputs": [],
   "source": [
    "#%pip install --upgrade pip"
   ]
  },
  {
   "cell_type": "code",
   "execution_count": 4,
   "id": "9110a2a7",
   "metadata": {},
   "outputs": [],
   "source": [
    "#%pip install sympy"
   ]
  },
  {
   "cell_type": "code",
   "execution_count": 1,
   "id": "5dbd98e5",
   "metadata": {},
   "outputs": [],
   "source": [
    "from sympy import(\n",
    "    symbols, #define symbols for symbolic math\n",
    "    diff,    #differentiate expressions\n",
    "    integrate, # integrate expressions\n",
    "    Rational, # define rational numbers\n",
    "    lambdify # turn symbolic expr. into python functions\n",
    ")\n",
    "\n",
    "t, v0, g = symbols('t,v0,g')\n",
    "y = v0*t - Rational(1,2)*g*t**2"
   ]
  },
  {
   "cell_type": "code",
   "execution_count": 7,
   "id": "de6b93be",
   "metadata": {},
   "outputs": [
    {
     "data": {
      "text/latex": [
       "$\\displaystyle - g t + v_{0}$"
      ],
      "text/plain": [
       "-g*t + v0"
      ]
     },
     "execution_count": 7,
     "metadata": {},
     "output_type": "execute_result"
    }
   ],
   "source": [
    "#differentiate\n",
    "dydt = diff(y,t)\n",
    "dydt"
   ]
  },
  {
   "cell_type": "code",
   "execution_count": 15,
   "id": "97198089",
   "metadata": {},
   "outputs": [
    {
     "name": "stdout",
     "output_type": "stream",
     "text": [
      "acceleration:\n"
     ]
    },
    {
     "data": {
      "text/latex": [
       "$\\displaystyle - g$"
      ],
      "text/plain": [
       "-g"
      ]
     },
     "execution_count": 15,
     "metadata": {},
     "output_type": "execute_result"
    }
   ],
   "source": [
    "print(\"acceleration:\"); diff(dydt,t) #2nd derivative"
   ]
  },
  {
   "cell_type": "code",
   "execution_count": 16,
   "id": "c0af071c",
   "metadata": {},
   "outputs": [
    {
     "data": {
      "text/latex": [
       "$\\displaystyle - \\frac{g t^{2}}{2} + t v_{0}$"
      ],
      "text/plain": [
       "-g*t**2/2 + t*v0"
      ]
     },
     "execution_count": 16,
     "metadata": {},
     "output_type": "execute_result"
    }
   ],
   "source": [
    "#integrate\n",
    "y2 = integrate(dydt,t)\n",
    "y2"
   ]
  },
  {
   "cell_type": "code",
   "execution_count": 17,
   "id": "e457d112",
   "metadata": {},
   "outputs": [],
   "source": [
    "v = lambdify([t,v0,g],dydt)"
   ]
  },
  {
   "cell_type": "code",
   "execution_count": 18,
   "id": "4573b6a8",
   "metadata": {},
   "outputs": [
    {
     "data": {
      "text/plain": [
       "5.0"
      ]
     },
     "execution_count": 18,
     "metadata": {},
     "output_type": "execute_result"
    }
   ],
   "source": [
    "v(0,5,9.81)"
   ]
  },
  {
   "cell_type": "code",
   "execution_count": 19,
   "id": "8e36f282",
   "metadata": {},
   "outputs": [
    {
     "data": {
      "text/plain": [
       "-14.620000000000001"
      ]
     },
     "execution_count": 19,
     "metadata": {},
     "output_type": "execute_result"
    }
   ],
   "source": [
    "v(2,5,9.81)"
   ]
  },
  {
   "cell_type": "code",
   "execution_count": 20,
   "id": "dec099a0",
   "metadata": {},
   "outputs": [
    {
     "data": {
      "text/plain": [
       "-14.620000000000001"
      ]
     },
     "execution_count": 20,
     "metadata": {},
     "output_type": "execute_result"
    }
   ],
   "source": [
    "5-9.81*2"
   ]
  },
  {
   "cell_type": "markdown",
   "id": "860890e8",
   "metadata": {},
   "source": [
    "A linear equation defined through an expression e that is zero, can be solved by solve(e, t) , if t is the unknown (symbol) in the equation."
   ]
  },
  {
   "cell_type": "code",
   "execution_count": 2,
   "id": "598789ea",
   "metadata": {},
   "outputs": [],
   "source": [
    "from sympy import solve\n",
    "roots = solve(y,t)"
   ]
  },
  {
   "cell_type": "code",
   "execution_count": 3,
   "id": "3e61f14a",
   "metadata": {},
   "outputs": [
    {
     "data": {
      "text/plain": [
       "[0, 2*v0/g]"
      ]
     },
     "execution_count": 3,
     "metadata": {},
     "output_type": "execute_result"
    }
   ],
   "source": [
    "roots"
   ]
  },
  {
   "cell_type": "markdown",
   "id": "e9cdc09b",
   "metadata": {},
   "source": [
    "To check is this correct we can insert this roots in to the equation look if it satisfies $y = 0$"
   ]
  },
  {
   "cell_type": "code",
   "execution_count": 5,
   "id": "956a45a1",
   "metadata": {},
   "outputs": [
    {
     "data": {
      "text/latex": [
       "$\\displaystyle 0$"
      ],
      "text/plain": [
       "0"
      ]
     },
     "execution_count": 5,
     "metadata": {},
     "output_type": "execute_result"
    }
   ],
   "source": [
    "y.subs(t,roots[0])"
   ]
  },
  {
   "cell_type": "code",
   "execution_count": 6,
   "id": "f35a3acd",
   "metadata": {},
   "outputs": [
    {
     "data": {
      "text/latex": [
       "$\\displaystyle 0$"
      ],
      "text/plain": [
       "0"
      ]
     },
     "execution_count": 6,
     "metadata": {},
     "output_type": "execute_result"
    }
   ],
   "source": [
    "y.subs(t,roots[1])"
   ]
  },
  {
   "cell_type": "markdown",
   "id": "0119b7a3",
   "metadata": {},
   "source": [
    "#### Another example: Taylor series  \n",
    "\n",
    "A Taylor polynomial of order n for an expression e in a variable t around the point t0 is computed by $e.series(t, t0, n).$  \n",
    "We can test this ont $e^t$ and $e^{sin(t)}$ "
   ]
  },
  {
   "cell_type": "code",
   "execution_count": 7,
   "id": "80b86d91",
   "metadata": {},
   "outputs": [
    {
     "data": {
      "text/latex": [
       "$\\displaystyle 1 + t + \\frac{t^{2}}{2} + O\\left(t^{3}\\right)$"
      ],
      "text/plain": [
       "1 + t + t**2/2 + O(t**3)"
      ]
     },
     "execution_count": 7,
     "metadata": {},
     "output_type": "execute_result"
    }
   ],
   "source": [
    "from sympy import exp,sin,cos\n",
    "f = exp(t)\n",
    "f.series(t,0,3)"
   ]
  },
  {
   "cell_type": "code",
   "execution_count": 8,
   "id": "46867b82",
   "metadata": {},
   "outputs": [
    {
     "data": {
      "text/latex": [
       "$\\displaystyle 1 + t + \\frac{t^{2}}{2} - \\frac{t^{4}}{8} - \\frac{t^{5}}{15} - \\frac{t^{6}}{240} + \\frac{t^{7}}{90} + O\\left(t^{8}\\right)$"
      ],
      "text/plain": [
       "1 + t + t**2/2 - t**4/8 - t**5/15 - t**6/240 + t**7/90 + O(t**8)"
      ]
     },
     "execution_count": 8,
     "metadata": {},
     "output_type": "execute_result"
    }
   ],
   "source": [
    "f = exp(sin(t))\n",
    "f.series(t,0,8)"
   ]
  },
  {
   "cell_type": "code",
   "execution_count": 9,
   "id": "cc3f2f0a",
   "metadata": {},
   "outputs": [
    {
     "name": "stdout",
     "output_type": "stream",
     "text": [
      "1 + t + \\frac{t^{2}}{2} - \\frac{t^{4}}{8} - \\frac{t^{5}}{15} - \\frac{t^{6}}{240} + \\frac{t^{7}}{90} + O\\left(t^{8}\\right)\n"
     ]
    }
   ],
   "source": [
    "from sympy import latex\n",
    "print(latex(f.series(t,0,8)))"
   ]
  },
  {
   "cell_type": "markdown",
   "id": "23735e46",
   "metadata": {},
   "source": [
    "We can expand and simplify equations"
   ]
  },
  {
   "cell_type": "code",
   "execution_count": 11,
   "id": "fd2f3979",
   "metadata": {},
   "outputs": [],
   "source": [
    "from sympy import simplify, expand\n",
    "x,y = symbols('x,y')\n",
    "f = cos(x)*cos(y)+sin(x)*sin(y)\n",
    "F=f.simplify()"
   ]
  },
  {
   "cell_type": "code",
   "execution_count": 12,
   "id": "050ddfc7",
   "metadata": {},
   "outputs": [
    {
     "data": {
      "text/latex": [
       "$\\displaystyle \\cos{\\left(x - y \\right)}$"
      ],
      "text/plain": [
       "cos(x - y)"
      ]
     },
     "execution_count": 12,
     "metadata": {},
     "output_type": "execute_result"
    }
   ],
   "source": [
    "F"
   ]
  },
  {
   "cell_type": "code",
   "execution_count": 15,
   "id": "51da6793",
   "metadata": {},
   "outputs": [
    {
     "data": {
      "text/latex": [
       "$\\displaystyle \\sin{\\left(x \\right)} \\sin{\\left(y \\right)} + \\cos{\\left(x \\right)} \\cos{\\left(y \\right)}$"
      ],
      "text/plain": [
       "sin(x)*sin(y) + cos(x)*cos(y)"
      ]
     },
     "execution_count": 15,
     "metadata": {},
     "output_type": "execute_result"
    }
   ],
   "source": [
    "F.expand(trig =True)"
   ]
  },
  {
   "cell_type": "code",
   "execution_count": 20,
   "id": "730876da",
   "metadata": {},
   "outputs": [
    {
     "data": {
      "text/latex": [
       "$\\displaystyle 1$"
      ],
      "text/plain": [
       "1"
      ]
     },
     "execution_count": 20,
     "metadata": {},
     "output_type": "execute_result"
    }
   ],
   "source": [
    "f = sin(x)**2 + cos(x)**2\n",
    "f.simplify()"
   ]
  },
  {
   "cell_type": "markdown",
   "id": "d5e053eb",
   "metadata": {},
   "source": [
    "### Problem: Trajectory of a Ball\n",
    "\n",
    "What is the trajectory of a ball that is thrown or kicked with an initial velocity v 0 making an angle \u0006 with the horizontal?"
   ]
  },
  {
   "cell_type": "markdown",
   "id": "d2fd7666",
   "metadata": {},
   "source": [
    "The equation of motion is \n",
    "$$f(x)= xtan\\theta-\\frac{1}{2v_0^2}\\frac{gx^2}{cos\\theta^2}+y_0$$  "
   ]
  },
  {
   "cell_type": "code",
   "execution_count": 38,
   "id": "87bb2114",
   "metadata": {},
   "outputs": [
    {
     "name": "stdout",
     "output_type": "stream",
     "text": [
      "\n",
      "x = 0.5 m\n",
      "y0 = 1.0 m\n",
      "v0 = 15.0 km/h\n",
      "theta = 60 degrees\n",
      "g = 9.81 m/s**2\n",
      "\n",
      "y = 1.6 m\n"
     ]
    }
   ],
   "source": [
    "#initializing the variables\n",
    "x = 0.5 #m\n",
    "y0 = 1 # m\n",
    "v0 = 15 #km/h\n",
    "theta = 60 #degree\n",
    "g = 9.81 # m/s**2\n",
    "\n",
    "print (\"\"\"\n",
    "x = %.1f m\n",
    "y0 = %.1f m\n",
    "v0 = %.1f km/h\n",
    "theta = %d degrees\n",
    "g = %.2f m/s**2\n",
    "\"\"\"% (x,y0,v0,theta,g))\n",
    "\n",
    "#convert v0 to m/s and theta to rad\n",
    "from math import tan,pi,cos\n",
    "v0 = v0/3.6\n",
    "theta = theta*pi/180\n",
    "\n",
    "y = x*tan(theta) - 1/(2*v0**2)*g*x**2/((cos(theta))**2) + y0\n",
    "\n",
    "print(\"y = %.1f m\"%y)"
   ]
  },
  {
   "cell_type": "markdown",
   "id": "5c1fbd97",
   "metadata": {},
   "source": [
    "## Exercises"
   ]
  },
  {
   "cell_type": "markdown",
   "id": "90ee1661",
   "metadata": {},
   "source": [
    "### Exercise 1.1: Compute 1+1"
   ]
  },
  {
   "cell_type": "code",
   "execution_count": 39,
   "id": "f5495c18",
   "metadata": {},
   "outputs": [
    {
     "name": "stdout",
     "output_type": "stream",
     "text": [
      "2\n"
     ]
    }
   ],
   "source": [
    "a = 1+1\n",
    "print(a)"
   ]
  },
  {
   "cell_type": "markdown",
   "id": "01a0bf0f",
   "metadata": {},
   "source": [
    "### Exercise 1.2: Write a Hello World program"
   ]
  },
  {
   "cell_type": "code",
   "execution_count": 40,
   "id": "33b34c0c",
   "metadata": {},
   "outputs": [
    {
     "name": "stdout",
     "output_type": "stream",
     "text": [
      "Hello, World!\n"
     ]
    }
   ],
   "source": [
    "print('Hello, World!')"
   ]
  },
  {
   "cell_type": "markdown",
   "id": "e0aec046",
   "metadata": {},
   "source": [
    "### Exercise 1.3: Derive and compute a formula\n",
    "\n",
    "Can a newborn baby in Norway expect to live for one billion ($10^9$ ) seconds? Write a Python program for doing arithmetics to answer the question."
   ]
  },
  {
   "cell_type": "code",
   "execution_count": 43,
   "id": "42ac419a",
   "metadata": {},
   "outputs": [
    {
     "name": "stdout",
     "output_type": "stream",
     "text": [
      "Baby age is 31.7 years\n"
     ]
    }
   ],
   "source": [
    "baby_age_s = 10**9 # seconds\n",
    "baby_age_y = baby_age_s/(365*24*60* 60) #years\n",
    "\n",
    "print(\"Baby age is %.1f years\"%(baby_age_y))"
   ]
  },
  {
   "cell_type": "markdown",
   "id": "688adc27",
   "metadata": {},
   "source": [
    "### Exercise 1.4: Convert from meters to British length units\n",
    "Make a program where you set a length given in meters and then compute and writeout the corresponding length measured in inches, in feet, in yards, and in miles. Use that one inch is 2.54 cm, one foot is 12 inches, one yard is 3 feet, and one British mile is 1760 yards. For verification, a length of 640 meters corresponds to 25196.85 inches, 2099.74 feet, 699.91 yards, or 0.3977 miles?"
   ]
  },
  {
   "cell_type": "code",
   "execution_count": 50,
   "id": "1f851ba4",
   "metadata": {},
   "outputs": [
    {
     "name": "stdout",
     "output_type": "stream",
     "text": [
      "\n",
      "Given meter is converted to the below units\n",
      "meter = 640.00 m\n",
      "inch = 25196.85 inch\n",
      "feet = 2099.74 feet\n",
      "yard = 699.91 yard\n",
      "mile = 0.3977 mile\n",
      "\n"
     ]
    }
   ],
   "source": [
    "m_cm = 100 # m\n",
    "m_inch = 100/2.54 # inch\n",
    "m_feet = m_inch/12. #feet\n",
    "m_yard = m_feet/3. #yard\n",
    "m_mile = m_yard/1760. # mile\n",
    "\n",
    "m = 640 # m\n",
    "m_i = m*m_inch\n",
    "m_f = m*m_feet\n",
    "m_y = m*m_yard\n",
    "m_m = m*m_mile\n",
    "\n",
    "print(\"\"\"\n",
    "Given meter is converted to the below units\n",
    "meter = %.2f m\n",
    "inch = %.2f inch\n",
    "feet = %.2f feet\n",
    "yard = %.2f yard\n",
    "mile = %.4f mile\n",
    "\"\"\"%(m,m_i,m_f,m_y,m_m))"
   ]
  },
  {
   "cell_type": "markdown",
   "id": "9dafe4cf",
   "metadata": {},
   "source": [
    "Exercise 1.6: Compute the growth of money in a bank\n",
    "Let p be a bank’s interest rate in percent per year. An initial amount A has then grown to\n",
    "$$A\\left(1+\\frac{p}{100}\\right)^n$$\n",
    "\n",
    "where n = number of years  \n",
    "      A = initial amount  \n",
    "      p = interest rate  \n",
    "\n",
    "after n years. Make a program for computing how much money 1000 euros have grown to after three years with 5 percent interest rate?"
   ]
  },
  {
   "cell_type": "code",
   "execution_count": 52,
   "id": "0b1fdb22",
   "metadata": {},
   "outputs": [
    {
     "data": {
      "text/plain": [
       "1157.6250000000002"
      ]
     },
     "execution_count": 52,
     "metadata": {},
     "output_type": "execute_result"
    }
   ],
   "source": [
    "A = 1000\n",
    "p = 5\n",
    "n = 3\n",
    "\n",
    "Total_amount = A*(1+ (p/100))**n\n",
    "Total_amount"
   ]
  },
  {
   "cell_type": "code",
   "execution_count": 55,
   "id": "85916ae5",
   "metadata": {},
   "outputs": [
    {
     "name": "stdout",
     "output_type": "stream",
     "text": [
      "sin(1)=0.841471\n"
     ]
    }
   ],
   "source": [
    "x = 1; print(\"sin(%g)=%g\"%(x,sin(x)))"
   ]
  },
  {
   "cell_type": "markdown",
   "id": "6b80ce77",
   "metadata": {},
   "source": [
    "### Exercise 1.10: Evaluate a Gaussian function\n",
    "The bell-shaped Gaussian function,\n",
    "$$f(x)=\\frac{1}{\\sqrt{2\\pi}s}exp\\left[-\\frac{1}{2}\\left(\\frac{x-m}{s}\\right)^2\\right]$$\n",
    "is one of the most widely used functions in science and technology. The parameters m and s > 0 are prescribed real numbers. Make a program for evaluating this function when m = 0, s = 2, and x = 1. Verify the program’s result by comparing with hand calculations on a calculator?\n"
   ]
  },
  {
   "cell_type": "code",
   "execution_count": 67,
   "id": "4e9a3488",
   "metadata": {},
   "outputs": [
    {
     "data": {
      "text/plain": [
       "0.17603266338214976"
      ]
     },
     "execution_count": 67,
     "metadata": {},
     "output_type": "execute_result"
    }
   ],
   "source": [
    "from math import exp,sqrt,pi\n",
    "m = 0\n",
    "s = 2\n",
    "x = 1\n",
    "\n",
    "f = (1/(sqrt(2*pi)*s))*exp(-0.5*((x-m)/2)**2)\n",
    "f"
   ]
  },
  {
   "cell_type": "markdown",
   "id": "cde02d0a",
   "metadata": {},
   "source": [
    "### Exercise 1.17: Find errors in the coding of a formula\n",
    "\n",
    "```\n",
    "a = 2; b = 1; c = 2\n",
    "from math import sqrt\n",
    "q = b*b - 4*a*c\n",
    "q_sr = sqrt(q)\n",
    "x1 = (-b + q_sr)/2*a\n",
    "x2 = (-b - q_sr)/2*a\n",
    "print x1, x2\n",
    "\n",
    "```"
   ]
  },
  {
   "cell_type": "code",
   "execution_count": 59,
   "id": "24b2b757",
   "metadata": {},
   "outputs": [
    {
     "name": "stdout",
     "output_type": "stream",
     "text": [
      "(-1+3.872983346207417j) (-1-3.872983346207417j)\n"
     ]
    }
   ],
   "source": [
    "a = 2; b = 1; c = 2\n",
    "from cmath import sqrt\n",
    "q = b*b - 4*a*c\n",
    "q_sr = sqrt(q)\n",
    "x1 = (-b + q_sr)/2*a\n",
    "x2 = (-b - q_sr)/2*a\n",
    "print (x1, x2)"
   ]
  },
  {
   "cell_type": "markdown",
   "id": "d8fa9d6a",
   "metadata": {},
   "source": [
    "### Exercise 1.18: Find errors in a program\n",
    "What is the problem in the following program?\n",
    "```\n",
    "from math import pi, tan\n",
    "tan = tan(pi/4)\n",
    "tan2 = tan(pi/3)\n",
    "print tan, tan2\n",
    "\n",
    "```"
   ]
  },
  {
   "cell_type": "code",
   "execution_count": 65,
   "id": "b2bb9ec6",
   "metadata": {},
   "outputs": [
    {
     "name": "stdout",
     "output_type": "stream",
     "text": [
      "0.9999999999999999 1.7320508075688767\n"
     ]
    }
   ],
   "source": [
    "from math import pi, tan\n",
    "tan1 = tan(pi/4)\n",
    "tan2 = tan(pi/3)\n",
    "print (tan1, tan2)"
   ]
  },
  {
   "cell_type": "code",
   "execution_count": null,
   "id": "d94fb5df",
   "metadata": {},
   "outputs": [],
   "source": []
  }
 ],
 "metadata": {
  "kernelspec": {
   "display_name": "Python 3 (ipykernel)",
   "language": "python",
   "name": "python3"
  },
  "language_info": {
   "codemirror_mode": {
    "name": "ipython",
    "version": 3
   },
   "file_extension": ".py",
   "mimetype": "text/x-python",
   "name": "python",
   "nbconvert_exporter": "python",
   "pygments_lexer": "ipython3",
   "version": "3.8.10"
  }
 },
 "nbformat": 4,
 "nbformat_minor": 5
}
