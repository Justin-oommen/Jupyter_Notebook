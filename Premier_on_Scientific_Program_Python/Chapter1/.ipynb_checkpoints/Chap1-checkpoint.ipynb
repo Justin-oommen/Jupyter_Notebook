{
 "cells": [
  {
   "cell_type": "markdown",
   "id": "93182567",
   "metadata": {},
   "source": [
    "Newton's second law of motion for the motion of a ball  \n",
    "$$y(t)= v_0t - 1/2gt^2$$"
   ]
  },
  {
   "cell_type": "markdown",
   "id": "ac58d6c0",
   "metadata": {},
   "source": [
    "The use of variables $v_0,t,g,y$"
   ]
  },
  {
   "cell_type": "code",
   "execution_count": 4,
   "id": "a3d66a59",
   "metadata": {},
   "outputs": [],
   "source": [
    "# Program for computing the height of a ball in vertical motion\n",
    "v0 = 5 # initial velocity\n",
    "g = 9.81 # acceleration due to gravity\n",
    "t = 0.6 # time\n",
    "y = v0*t - 0.5*g*t**2 #vertical position"
   ]
  },
  {
   "cell_type": "code",
   "execution_count": 3,
   "id": "389045e8",
   "metadata": {},
   "outputs": [
    {
     "name": "stdout",
     "output_type": "stream",
     "text": [
      "1.2342\n"
     ]
    }
   ],
   "source": [
    "print(y)"
   ]
  },
  {
   "cell_type": "markdown",
   "id": "9ace6223",
   "metadata": {},
   "source": [
    "Certain words are reserved in python and they cannot be used as variables in the code and they are:  \n",
    "**and , as , assert , break , class , continue , def , del , elif , else , except , False , finally , for , from , global , if , import , in , is , lambda , None , nonlocal , not , or , pass , raise , return , True , try , with , while , and yield .**"
   ]
  },
  {
   "cell_type": "markdown",
   "id": "9c30d84b",
   "metadata": {},
   "source": [
    "Program files can have a freely chosen name, but stay away from names that coincide with keywords or module names in Python. For instance, do not use    \n",
    "**math.py , time.py , random.py , os.py , sys.py , while.py , for.py , if.py , class.py , or def.py**"
   ]
  },
  {
   "cell_type": "markdown",
   "id": "cdecaca3",
   "metadata": {},
   "source": [
    "### Formatting text and numbers"
   ]
  },
  {
   "cell_type": "code",
   "execution_count": 9,
   "id": "47ef253e",
   "metadata": {},
   "outputs": [
    {
     "name": "stdout",
     "output_type": "stream",
     "text": [
      "At t=0.6 s, the height of the ball is 1.23 m\n"
     ]
    }
   ],
   "source": [
    "#printf method\n",
    "print (\"At t=%g s, the height of the ball is %.2f m\" %(t,y))"
   ]
  },
  {
   "cell_type": "code",
   "execution_count": 17,
   "id": "649b1f20",
   "metadata": {},
   "outputs": [
    {
     "name": "stdout",
     "output_type": "stream",
     "text": [
      "\n",
      "At t=0.6 s, a ball with\n",
      "intital velocity v0=5.000E+00 m/s\n",
      "is located at the height 1.234 m.\n",
      "\n"
     ]
    }
   ],
   "source": [
    "print(\"\"\"\n",
    "At t=%g s, a ball with\n",
    "intital velocity v0=%.3E m/s\n",
    "is located at the height %.3f m.\n",
    "\"\"\" % (t,v0,y))"
   ]
  },
  {
   "cell_type": "code",
   "execution_count": 19,
   "id": "6b2c5d3d",
   "metadata": {},
   "outputs": [
    {
     "name": "stdout",
     "output_type": "stream",
     "text": [
      "At t = 0.6 s, the height of the ball is 1.23 m\n"
     ]
    }
   ],
   "source": [
    "#Format string synatx\n",
    "print(\"At t = {:g} s, the height of the ball is {:.2f} m\".format(t,y))"
   ]
  },
  {
   "cell_type": "code",
   "execution_count": 20,
   "id": "e94a3db7",
   "metadata": {},
   "outputs": [
    {
     "name": "stdout",
     "output_type": "stream",
     "text": [
      "\n",
      "At t=0.6 s, a ball with\n",
      "initial velocity v0=5.000E+00 m/s\n",
      "is located at the height 1.2342 m\n",
      "\n"
     ]
    }
   ],
   "source": [
    "print(\"\"\"\n",
    "At t={:g} s, a ball with\n",
    "initial velocity v0={:.3E} m/s\n",
    "is located at the height {:.4f} m\n",
    "\"\"\".format(t,v0,y))"
   ]
  },
  {
   "cell_type": "code",
   "execution_count": 21,
   "id": "f8ac45cb",
   "metadata": {},
   "outputs": [
    {
     "name": "stdout",
     "output_type": "stream",
     "text": [
      "the new position of the ball \n",
      "is called \n",
      "y(t)\n"
     ]
    }
   ],
   "source": [
    "#new line character\n",
    "print(\"the new position of the ball \\nis called \\ny(t)\")"
   ]
  },
  {
   "cell_type": "markdown",
   "id": "f0700ced",
   "metadata": {},
   "source": [
    "### A computer Glossary  \n",
    "\n",
    "- Program and code are interchangeable terms. A code/program segment is a collection of consecutive statements from a program. Another term with similar meaning is code snippet. Many also use the word application in the same meaning as program and code. A related term is source code, which is the same as the text that constitutes the program.\n",
    "- We talk about running a program, or equivalently executing a program or executing a file. The file we execute is the file in which the program text is stored. This file is often called an executable or an application.\n",
    "- The term library is widely used for a collection of generally useful program pieces that can be applied in many different contexts. Having access to good libraries means that you do not need to program code snippets that others have already programmed (most probable in a better way!). There are huge numbers of Python libraries. In Python terminology, the libraries are composed of modules and packages.\n",
    "- math module, which contains a set of standard mathematical functions for sin x, cos x, ln x, e x , sinh x, sin \u00021 x, etc.\n",
    "- Packages are just collections of modules.\n",
    "- An error in a program is known as a bug, and the process of locating and removing bugs is called debugging.\n",
    "- it ispossible to write multiple statements on one line if the statements are separated by semi-colon.\n",
    "- Computer scientists often use the term whitespace when referring to a blank.\n"
   ]
  },
  {
   "cell_type": "markdown",
   "id": "5eae7b5a",
   "metadata": {},
   "source": [
    "### Celsius-Fahrenheit Conversion\n",
    "\n",
    "$$F = \\frac{9}{5}C + 32$$\n",
    "\n",
    "As a quite general rule of thumb, one should be careful to avoid integer division when programming mathematical formulas."
   ]
  },
  {
   "cell_type": "code",
   "execution_count": 27,
   "id": "648a85a2",
   "metadata": {},
   "outputs": [],
   "source": [
    "C = 1\n",
    "F = (9/5)*C + 32"
   ]
  },
  {
   "cell_type": "code",
   "execution_count": 29,
   "id": "127d6156",
   "metadata": {},
   "outputs": [],
   "source": [
    "C = 1\n",
    "F = (9.0/5)*C + 32"
   ]
  },
  {
   "cell_type": "code",
   "execution_count": 30,
   "id": "ec6d835b",
   "metadata": {},
   "outputs": [
    {
     "name": "stdout",
     "output_type": "stream",
     "text": [
      "\n",
      "C = 1.00\n",
      "F = 33.800\n",
      "\n"
     ]
    }
   ],
   "source": [
    "print(\"\"\"\n",
    "C = {:.2f}\n",
    "F = {:.3f}\n",
    "\"\"\".format(C,F))"
   ]
  },
  {
   "cell_type": "markdown",
   "id": "5a8522ed",
   "metadata": {},
   "source": [
    "We now ask the question:  \n",
    "How long time does it take for the ball to reach the height y c?   \n",
    "The answer is straightforward to derive.  \n",
    "When $y = y_c$ we have\n",
    "\n",
    "$$y_c = v_0t - \\frac{1}{2}gt^2$$  \n",
    "\n",
    "This is a quadratic equation therefore we must solve this with respect to t and Rearraging,$$\\frac{1}{2}gt^2 - v_0t + y_c = 0$$  \n",
    "and solving it gives is $$t_1 = \\frac{(v_0 - \\sqrt(v_0^2 - 2gy_c))}{g}, t2= \\frac{(v_0+\\sqrt(v_0^2 - 2gy_c))}{g}$$"
   ]
  },
  {
   "cell_type": "markdown",
   "id": "000b18c7",
   "metadata": {},
   "source": [
    "In Python, the square root function and lots of other mathematical functions, such as sin, cos, sinh, exp, and log, are available in a module called *math* ."
   ]
  },
  {
   "cell_type": "code",
   "execution_count": 31,
   "id": "47de5a59",
   "metadata": {},
   "outputs": [
    {
     "name": "stdout",
     "output_type": "stream",
     "text": [
      "At t1 = 0.0417064 s, and t2 = 0.977662 s, the height is 0.200 m.\n"
     ]
    }
   ],
   "source": [
    "v0 = 5\n",
    "g = 9.81\n",
    "yc = 0.2\n",
    "\n",
    "import math as m\n",
    "t1 = (v0 - m.sqrt(v0**2 - 2*g*yc))/g\n",
    "t2 = (v0 + m.sqrt(v0**2 - 2*g*yc))/g\n",
    "\n",
    "print(\"At t1 = %g s, and t2 = %g s, the height is %.3f m.\"%(t1,t2,yc))"
   ]
  },
  {
   "cell_type": "markdown",
   "id": "e41cd438",
   "metadata": {},
   "source": [
    "Evaluating sinh(x):  \n",
    "$$sinh(x) = \\frac{1}{2}(e^x-e^-x)$$"
   ]
  },
  {
   "cell_type": "code",
   "execution_count": 32,
   "id": "58df797d",
   "metadata": {},
   "outputs": [
    {
     "name": "stdout",
     "output_type": "stream",
     "text": [
      "\n",
      "r1 = 267.744894\n",
      "r2 = 267.744894\n",
      "r3 = 267.744894\n",
      "\n"
     ]
    }
   ],
   "source": [
    "#Three ways\n",
    "\n",
    "from math import sinh, exp, e, pi\n",
    "x = 2*pi\n",
    "#first method\n",
    "r1 = sinh(x)\n",
    "#second method\n",
    "r2 = 0.5*(exp(x)-exp(-x))\n",
    "#third method\n",
    "r3 = 0.5*(e**x - e**(-x))\n",
    "\n",
    "print(\"\"\"\n",
    "r1 = %f\n",
    "r2 = %f\n",
    "r3 = %f\n",
    "\"\"\"%(r1,r2,r3))"
   ]
  },
  {
   "cell_type": "markdown",
   "id": "e0975c3a",
   "metadata": {},
   "source": [
    "Here the three outputs are the same and they are done by 3 different methods.  \n",
    "But let's try to print it to 16 decimal points and see what happens!"
   ]
  },
  {
   "cell_type": "code",
   "execution_count": 33,
   "id": "3eda551a",
   "metadata": {},
   "outputs": [
    {
     "name": "stdout",
     "output_type": "stream",
     "text": [
      "\n",
      "r1 = 267.7448940410164369\n",
      "r2 = 267.7448940410164369\n",
      "r3 = 267.7448940410163232\n",
      "\n"
     ]
    }
   ],
   "source": [
    "print(\"\"\"\n",
    "r1 = %.16f\n",
    "r2 = %.16f\n",
    "r3 = %.16f\n",
    "\"\"\"%(r1,r2,r3))"
   ]
  },
  {
   "cell_type": "markdown",
   "id": "f6765aa4",
   "metadata": {},
   "source": [
    "Here r1 and r2 are equal but r3 is different!  \n",
    "Why?  \n",
    "Our program computes with real numbers, and real numbers need in general an infinite number of decimals to be represented exactly. The computer truncates the sequence of decimals because the storage is finite. In fact, it is quite standard to keep only 17 digits in a real number on a computer.  \n",
    "**Rounding errors:** errors in floating-point numbers may propagate through mathematical calculations and result in answers that are only approximations to the exact underlying mathematical values. The errors in the answers are commonly known as *rounding errors.*"
   ]
  },
  {
   "cell_type": "markdown",
   "id": "d6823706",
   "metadata": {},
   "source": [
    "### Complex numbers\n",
    "\n",
    "- Python supports computation with complex numbers. The imaginary unit is written as **j** in Python, instead of i as in mathematics.\n",
    "- remark that the number i is written as **1j , not just j**."
   ]
  },
  {
   "cell_type": "code",
   "execution_count": 39,
   "id": "b9b56d4d",
   "metadata": {},
   "outputs": [],
   "source": [
    "z1 = 2.5 + 3j\n",
    "z2 = 2"
   ]
  },
  {
   "cell_type": "code",
   "execution_count": 40,
   "id": "2fe764ba",
   "metadata": {},
   "outputs": [
    {
     "data": {
      "text/plain": [
       "(4.5+3j)"
      ]
     },
     "execution_count": 40,
     "metadata": {},
     "output_type": "execute_result"
    }
   ],
   "source": [
    "z = z1+z2\n",
    "z"
   ]
  },
  {
   "cell_type": "code",
   "execution_count": 41,
   "id": "2f70e910",
   "metadata": {},
   "outputs": [
    {
     "data": {
      "text/plain": [
       "(0.5+3j)"
      ]
     },
     "execution_count": 41,
     "metadata": {},
     "output_type": "execute_result"
    }
   ],
   "source": [
    "z = z1-z2\n",
    "z"
   ]
  },
  {
   "cell_type": "code",
   "execution_count": 43,
   "id": "dd88942c",
   "metadata": {},
   "outputs": [
    {
     "data": {
      "text/plain": [
       "(5+6j)"
      ]
     },
     "execution_count": 43,
     "metadata": {},
     "output_type": "execute_result"
    }
   ],
   "source": [
    "z = z1*z2\n",
    "z"
   ]
  },
  {
   "cell_type": "code",
   "execution_count": 44,
   "id": "e54dd4a7",
   "metadata": {},
   "outputs": [
    {
     "data": {
      "text/plain": [
       "(1.25+1.5j)"
      ]
     },
     "execution_count": 44,
     "metadata": {},
     "output_type": "execute_result"
    }
   ],
   "source": [
    "z = z1/z2\n",
    "z"
   ]
  },
  {
   "cell_type": "code",
   "execution_count": 46,
   "id": "df1f0f82",
   "metadata": {},
   "outputs": [
    {
     "data": {
      "text/plain": [
       "2.5"
      ]
     },
     "execution_count": 46,
     "metadata": {},
     "output_type": "execute_result"
    }
   ],
   "source": [
    "z1.real"
   ]
  },
  {
   "cell_type": "code",
   "execution_count": 47,
   "id": "59995af3",
   "metadata": {},
   "outputs": [
    {
     "data": {
      "text/plain": [
       "3.0"
      ]
     },
     "execution_count": 47,
     "metadata": {},
     "output_type": "execute_result"
    }
   ],
   "source": [
    "z1.imag"
   ]
  },
  {
   "cell_type": "code",
   "execution_count": 48,
   "id": "98859b52",
   "metadata": {},
   "outputs": [
    {
     "data": {
      "text/plain": [
       "(2.5-3j)"
      ]
     },
     "execution_count": 48,
     "metadata": {},
     "output_type": "execute_result"
    }
   ],
   "source": [
    "z1.conjugate()"
   ]
  },
  {
   "cell_type": "markdown",
   "id": "b8c7690c",
   "metadata": {},
   "source": [
    "sin function from the math module only works with real ( float ) arguments, not complex. A similar module, cmath , defines functions that take a complex number as argument and return a complex number as result.  \n",
    "  \n",
    "We can demonstrate using cmath module that the relation $$sin(ai)=isinh(a)$$"
   ]
  },
  {
   "cell_type": "code",
   "execution_count": 59,
   "id": "744aa4db",
   "metadata": {},
   "outputs": [],
   "source": [
    "from cmath import sin, sinh, exp, cos"
   ]
  },
  {
   "cell_type": "code",
   "execution_count": 53,
   "id": "38fd72c0",
   "metadata": {},
   "outputs": [],
   "source": [
    "z1 = sin(8j)\n",
    "z2 = 1j*sinh(8)\n"
   ]
  },
  {
   "cell_type": "code",
   "execution_count": 54,
   "id": "566d9432",
   "metadata": {},
   "outputs": [
    {
     "data": {
      "text/plain": [
       "1490.4788257895502j"
      ]
     },
     "execution_count": 54,
     "metadata": {},
     "output_type": "execute_result"
    }
   ],
   "source": [
    "z1"
   ]
  },
  {
   "cell_type": "code",
   "execution_count": 55,
   "id": "a6b3c4af",
   "metadata": {},
   "outputs": [
    {
     "data": {
      "text/plain": [
       "1490.4788257895502j"
      ]
     },
     "execution_count": 55,
     "metadata": {},
     "output_type": "execute_result"
    }
   ],
   "source": [
    "z2"
   ]
  },
  {
   "cell_type": "markdown",
   "id": "a659d13a",
   "metadata": {},
   "source": [
    "Another relation\n",
    "$$e^{iq} = cos(q) + i sin(q)$$"
   ]
  },
  {
   "cell_type": "code",
   "execution_count": 58,
   "id": "23635bec",
   "metadata": {},
   "outputs": [
    {
     "data": {
      "text/plain": [
       "(-0.14550003380861354+0.9893582466233818j)"
      ]
     },
     "execution_count": 58,
     "metadata": {},
     "output_type": "execute_result"
    }
   ],
   "source": [
    "q = 8\n",
    "exp(1j*q)"
   ]
  },
  {
   "cell_type": "code",
   "execution_count": 62,
   "id": "b3000a0f",
   "metadata": {},
   "outputs": [
    {
     "data": {
      "text/plain": [
       "(-0.14550003380861354+0.9893582466233818j)"
      ]
     },
     "execution_count": 62,
     "metadata": {},
     "output_type": "execute_result"
    }
   ],
   "source": [
    "cos(q) + 1j*sin(q)"
   ]
  },
  {
   "cell_type": "markdown",
   "id": "b9811aaf",
   "metadata": {},
   "source": [
    "TO get unified treatment of complex and real function we can use **from numpy.lib.scimath**"
   ]
  },
  {
   "cell_type": "code",
   "execution_count": 86,
   "id": "43c5b88e",
   "metadata": {},
   "outputs": [],
   "source": [
    "from numpy.lib.scimath import *"
   ]
  },
  {
   "cell_type": "code",
   "execution_count": 87,
   "id": "6bca78c4",
   "metadata": {},
   "outputs": [
    {
     "data": {
      "text/plain": [
       "2.0"
      ]
     },
     "execution_count": 87,
     "metadata": {},
     "output_type": "execute_result"
    }
   ],
   "source": [
    "sqrt(4)"
   ]
  },
  {
   "cell_type": "code",
   "execution_count": 88,
   "id": "d6caa7b0",
   "metadata": {},
   "outputs": [
    {
     "data": {
      "text/plain": [
       "1j"
      ]
     },
     "execution_count": 88,
     "metadata": {},
     "output_type": "execute_result"
    }
   ],
   "source": [
    "sqrt(-1)"
   ]
  },
  {
   "cell_type": "markdown",
   "id": "ebadfd30",
   "metadata": {},
   "source": [
    "### Symbolic computing  \n",
    "\n",
    "Python has a package SymPy for doing symbolic computing, such as symbolic (exact) integration, differentiation, equation solving, and expansion of Taylor series, to mention some common operations in mathematics.  \n",
    "it will be important to know whether *sin means the sine function from the math module, aimed at **real numbers** , or the **special sine function from sympy , aimed at **symbolic expressions**\n"
   ]
  },
  {
   "cell_type": "code",
   "execution_count": 1,
   "id": "7b7c3c0d",
   "metadata": {},
   "outputs": [],
   "source": [
    "#%pip install --upgrade pip"
   ]
  },
  {
   "cell_type": "code",
   "execution_count": 4,
   "id": "9110a2a7",
   "metadata": {},
   "outputs": [],
   "source": [
    "#%pip install sympy"
   ]
  },
  {
   "cell_type": "code",
   "execution_count": 5,
   "id": "5dbd98e5",
   "metadata": {},
   "outputs": [],
   "source": [
    "from sympy import(\n",
    "    symbols, #define symbols for symbolic math\n",
    "    diff,    #differentiate expressions\n",
    "    integrate, # integrate expressions\n",
    "    Rational, # define rational numbers\n",
    "    lambdify # turn symbolic expr. into python functions\n",
    ")\n",
    "\n",
    "t, v0, g = symbols('t,v0,g')\n",
    "y = v0*t - Rational(1,2)*g*t**2"
   ]
  },
  {
   "cell_type": "code",
   "execution_count": 7,
   "id": "de6b93be",
   "metadata": {},
   "outputs": [
    {
     "data": {
      "text/latex": [
       "$\\displaystyle - g t + v_{0}$"
      ],
      "text/plain": [
       "-g*t + v0"
      ]
     },
     "execution_count": 7,
     "metadata": {},
     "output_type": "execute_result"
    }
   ],
   "source": [
    "#differentiate\n",
    "dydt = diff(y,t)\n",
    "dydt"
   ]
  },
  {
   "cell_type": "code",
   "execution_count": 15,
   "id": "97198089",
   "metadata": {},
   "outputs": [
    {
     "name": "stdout",
     "output_type": "stream",
     "text": [
      "acceleration:\n"
     ]
    },
    {
     "data": {
      "text/latex": [
       "$\\displaystyle - g$"
      ],
      "text/plain": [
       "-g"
      ]
     },
     "execution_count": 15,
     "metadata": {},
     "output_type": "execute_result"
    }
   ],
   "source": [
    "print(\"acceleration:\"); diff(dydt,t) #2nd derivative"
   ]
  },
  {
   "cell_type": "code",
   "execution_count": 16,
   "id": "c0af071c",
   "metadata": {},
   "outputs": [
    {
     "data": {
      "text/latex": [
       "$\\displaystyle - \\frac{g t^{2}}{2} + t v_{0}$"
      ],
      "text/plain": [
       "-g*t**2/2 + t*v0"
      ]
     },
     "execution_count": 16,
     "metadata": {},
     "output_type": "execute_result"
    }
   ],
   "source": [
    "#integrate\n",
    "y2 = integrate(dydt,t)\n",
    "y2"
   ]
  },
  {
   "cell_type": "code",
   "execution_count": 17,
   "id": "e457d112",
   "metadata": {},
   "outputs": [],
   "source": [
    "v = lambdify([t,v0,g],dydt)"
   ]
  },
  {
   "cell_type": "code",
   "execution_count": 18,
   "id": "4573b6a8",
   "metadata": {},
   "outputs": [
    {
     "data": {
      "text/plain": [
       "5.0"
      ]
     },
     "execution_count": 18,
     "metadata": {},
     "output_type": "execute_result"
    }
   ],
   "source": [
    "v(0,5,9.81)"
   ]
  },
  {
   "cell_type": "code",
   "execution_count": 19,
   "id": "8e36f282",
   "metadata": {},
   "outputs": [
    {
     "data": {
      "text/plain": [
       "-14.620000000000001"
      ]
     },
     "execution_count": 19,
     "metadata": {},
     "output_type": "execute_result"
    }
   ],
   "source": [
    "v(2,5,9.81)"
   ]
  },
  {
   "cell_type": "code",
   "execution_count": 20,
   "id": "dec099a0",
   "metadata": {},
   "outputs": [
    {
     "data": {
      "text/plain": [
       "-14.620000000000001"
      ]
     },
     "execution_count": 20,
     "metadata": {},
     "output_type": "execute_result"
    }
   ],
   "source": [
    "5-9.81*2"
   ]
  },
  {
   "cell_type": "code",
   "execution_count": null,
   "id": "598789ea",
   "metadata": {},
   "outputs": [],
   "source": []
  }
 ],
 "metadata": {
  "kernelspec": {
   "display_name": "Python 3 (ipykernel)",
   "language": "python",
   "name": "python3"
  },
  "language_info": {
   "codemirror_mode": {
    "name": "ipython",
    "version": 3
   },
   "file_extension": ".py",
   "mimetype": "text/x-python",
   "name": "python",
   "nbconvert_exporter": "python",
   "pygments_lexer": "ipython3",
   "version": "3.8.10"
  }
 },
 "nbformat": 4,
 "nbformat_minor": 5
}
