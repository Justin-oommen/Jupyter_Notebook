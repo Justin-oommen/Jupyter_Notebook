{
 "cells": [
  {
   "cell_type": "markdown",
   "id": "1efce18e",
   "metadata": {},
   "source": [
    "### While loop\n",
    "\n",
    "The while loop is used to repeat a set of statements as long as a condition is true."
   ]
  },
  {
   "cell_type": "code",
   "execution_count": 12,
   "id": "6b87454d",
   "metadata": {},
   "outputs": [
    {
     "name": "stdout",
     "output_type": "stream",
     "text": [
      "--------------------------\n",
      "C = -20\t\tF = -4.00\n",
      "C = -15\t\tF = 5.00\n",
      "C = -10\t\tF = 14.00\n",
      "C = -5\t\tF = 23.00\n",
      "C =  0\t\tF = 32.00\n",
      "C =  5\t\tF = 41.00\n",
      "C = 10\t\tF = 50.00\n",
      "C = 15\t\tF = 59.00\n",
      "C = 20\t\tF = 68.00\n",
      "C = 25\t\tF = 77.00\n",
      "C = 30\t\tF = 86.00\n",
      "C = 35\t\tF = 95.00\n",
      "C = 40\t\tF = 104.00\n",
      "---------------------------\n"
     ]
    }
   ],
   "source": [
    "print ('--------------------------')\n",
    "C = -20\n",
    "dC = 5\n",
    "while C<=40:\n",
    "    F = (9.0/5)*C + 32\n",
    "    print (\"C = %2g\\t\\tF = %.2f\" %(C,F))\n",
    "    C = C + dC\n",
    "print('---------------------------')\n",
    "    "
   ]
  },
  {
   "cell_type": "markdown",
   "id": "ed152621",
   "metadata": {},
   "source": [
    "Implement sine function as a polynomial\n",
    "$$sin(x)\\approx x-\\frac{x^3}{3!}+\\frac{x^5}{5!}-\\frac{x^7}{7!}+...$$  \n",
    "  \n",
    "  \n",
    "$$k! = k(k-1)(k-2)\\cdot\\cdot\\cdot2\\cdot1$$  \n",
    "  \n",
    "  \n",
    "factorial is done by `math.factorial(k)`"
   ]
  },
  {
   "cell_type": "code",
   "execution_count": 27,
   "id": "38d3f26a",
   "metadata": {},
   "outputs": [
    {
     "name": "stdout",
     "output_type": "stream",
     "text": [
      "sin(1.2) = 0.932039  (approximation in 25 terms)\n"
     ]
    }
   ],
   "source": [
    "#initialize\n",
    "N = 25\n",
    "k = 1\n",
    "x = 1.2\n",
    "s = x\n",
    "sign = 1.0\n",
    "\n",
    "import math\n",
    "\n",
    "while k<N:\n",
    "    sign = -sign\n",
    "    k = k+2\n",
    "    term = sign*x**k/math.factorial(k)\n",
    "    s = s + term\n",
    "    \n",
    "print(\"sin(%g) = %g  (approximation in %d terms)\"%(x,s,N))"
   ]
  },
  {
   "cell_type": "markdown",
   "id": "9c757b70",
   "metadata": {},
   "source": [
    "### Lists\n",
    "\n",
    "- put all the numbers inside square brackets and separate the numbers by commas.  \n",
    "- Elements in lists can be deleted, and new elements can be inserted anywhere. The functionality for doing this is built into the list object and accessed by a dot notation. Two examples are `C.append(v)`, *which appends a new element v to the end of the list*, and `C.insert(i,v)`, *which inserts a new element v in position number i in the list*.  \n",
    "- The number of elements in a list is given by `len(C)`.\n",
    "- Two lists can be added and the result is a new list.\n",
    "- With `del C[i]` we can remove an element with index i from the list C.\n",
    "- The command `C.index(10)` returns the index corresponding to the first element with value 10.\n",
    "- To just test if an object with the value 10 is an element in the list, one can write the boolean expression 10 in C.\n",
    "- Python allows negative indices, which leads to indexing from the right.`C[-1]` gives the last element of the list C. `C[-2]` is the element before `C[-1]`, and so forth.\n"
   ]
  },
  {
   "cell_type": "code",
   "execution_count": 43,
   "id": "5fd90a4f",
   "metadata": {},
   "outputs": [],
   "source": [
    "C = []\n",
    "C_value = -50\n",
    "C_max = 20\n",
    "while C_value <= C_max:\n",
    "    C.append(C_value)\n",
    "    C_value += 2.5"
   ]
  },
  {
   "cell_type": "code",
   "execution_count": 44,
   "id": "27c10291",
   "metadata": {},
   "outputs": [
    {
     "name": "stdout",
     "output_type": "stream",
     "text": [
      "[-50, -47.5, -45.0, -42.5, -40.0, -37.5, -35.0, -32.5, -30.0, -27.5, -25.0, -22.5, -20.0, -17.5, -15.0, -12.5, -10.0, -7.5, -5.0, -2.5, 0.0, 2.5, 5.0, 7.5, 10.0, 12.5, 15.0, 17.5, 20.0]\n"
     ]
    }
   ],
   "source": [
    "print(C)"
   ]
  },
  {
   "cell_type": "markdown",
   "id": "23ecd32f",
   "metadata": {},
   "source": [
    "There is a compact syntax for creating variables that refer to the various list elements. Simply list a sequence of variables on the left-hand side of an assignment to a list."
   ]
  },
  {
   "cell_type": "code",
   "execution_count": 31,
   "id": "835e15e8",
   "metadata": {},
   "outputs": [],
   "source": [
    "somelist = ['book.txt','book.log','book.var']\n",
    "textfile,logfile,varfile = somelist"
   ]
  },
  {
   "cell_type": "code",
   "execution_count": 32,
   "id": "2e2f7125",
   "metadata": {},
   "outputs": [
    {
     "data": {
      "text/plain": [
       "'book.txt'"
      ]
     },
     "execution_count": 32,
     "metadata": {},
     "output_type": "execute_result"
    }
   ],
   "source": [
    "textfile"
   ]
  },
  {
   "cell_type": "code",
   "execution_count": 33,
   "id": "031b9dc6",
   "metadata": {},
   "outputs": [
    {
     "data": {
      "text/plain": [
       "'book.log'"
      ]
     },
     "execution_count": 33,
     "metadata": {},
     "output_type": "execute_result"
    }
   ],
   "source": [
    "logfile"
   ]
  },
  {
   "cell_type": "code",
   "execution_count": 34,
   "id": "632a4c45",
   "metadata": {},
   "outputs": [
    {
     "data": {
      "text/plain": [
       "'book.var'"
      ]
     },
     "execution_count": 34,
     "metadata": {},
     "output_type": "execute_result"
    }
   ],
   "source": [
    "varfile"
   ]
  },
  {
   "cell_type": "markdown",
   "id": "80df86be",
   "metadata": {},
   "source": [
    "**NOTE**:*The number of variables on the left-hand side must match the number of elementsin the list, otherwise an error occurs.*"
   ]
  },
  {
   "cell_type": "markdown",
   "id": "4b0d9dde",
   "metadata": {},
   "source": [
    "### For loop"
   ]
  },
  {
   "cell_type": "code",
   "execution_count": 45,
   "id": "0b71e09b",
   "metadata": {
    "scrolled": false
   },
   "outputs": [
    {
     "name": "stdout",
     "output_type": "stream",
     "text": [
      "\t   C\t F\n",
      "\t  -50\t-58.0\n",
      "\t  -47\t-53.5\n",
      "\t  -45\t-49.0\n",
      "\t  -42\t-44.5\n",
      "\t  -40\t-40.0\n",
      "\t  -37\t-35.5\n",
      "\t  -35\t-31.0\n",
      "\t  -32\t-26.5\n",
      "\t  -30\t-22.0\n",
      "\t  -27\t-17.5\n",
      "\t  -25\t-13.0\n",
      "\t  -22\t -8.5\n",
      "\t  -20\t -4.0\n",
      "\t  -17\t  0.5\n",
      "\t  -15\t  5.0\n",
      "\t  -12\t  9.5\n",
      "\t  -10\t 14.0\n",
      "\t   -7\t 18.5\n",
      "\t   -5\t 23.0\n",
      "\t   -2\t 27.5\n",
      "\t    0\t 32.0\n",
      "\t    2\t 36.5\n",
      "\t    5\t 41.0\n",
      "\t    7\t 45.5\n",
      "\t   10\t 50.0\n",
      "\t   12\t 54.5\n",
      "\t   15\t 59.0\n",
      "\t   17\t 63.5\n",
      "\t   20\t 68.0\n"
     ]
    }
   ],
   "source": [
    "#coversion to Farehiet\n",
    "print('\\t   C\\t F')\n",
    "for c in C:\n",
    "    F = (9.0/5)*c + 32\n",
    "    print('\\t%5d\\t%5.1f'%(c,F))"
   ]
  },
  {
   "cell_type": "code",
   "execution_count": 46,
   "id": "333b8622",
   "metadata": {},
   "outputs": [
    {
     "data": {
      "text/plain": [
       "float"
      ]
     },
     "execution_count": 46,
     "metadata": {},
     "output_type": "execute_result"
    }
   ],
   "source": [
    "type(F)"
   ]
  },
  {
   "cell_type": "code",
   "execution_count": 47,
   "id": "ba12c027",
   "metadata": {},
   "outputs": [
    {
     "data": {
      "text/plain": [
       "list"
      ]
     },
     "execution_count": 47,
     "metadata": {},
     "output_type": "execute_result"
    }
   ],
   "source": [
    "type(C)"
   ]
  },
  {
   "cell_type": "markdown",
   "id": "fe8fce61",
   "metadata": {},
   "source": [
    "### The Range Construction\n",
    "\n",
    "- `range(n)` generates integers 0, 1, 2, ..., n-1.\n",
    "- `range(start, stop, step)` generates a sequence if integers start, start+step, start+2*step, and so on up to, but not including, stop. For example, range(2, 8, 3) returns 2 and 5 (and not 8), while range(1, 11, 2) returns 1, 3, 5, 7, 9.\n",
    "- `range(start, stop)` is the same as range(start, stop, 1)."
   ]
  },
  {
   "cell_type": "code",
   "execution_count": 48,
   "id": "025205d0",
   "metadata": {},
   "outputs": [
    {
     "name": "stdout",
     "output_type": "stream",
     "text": [
      "[-20, -15, -10, -5, 0, 5, 10, 15, 20, 25, 30, 35, 40]\n"
     ]
    }
   ],
   "source": [
    "Cdegrees = []\n",
    "for C in range(-20,45,5):\n",
    "    Cdegrees.append(C)\n",
    "print(Cdegrees)"
   ]
  },
  {
   "cell_type": "code",
   "execution_count": 56,
   "id": "7f04649d",
   "metadata": {},
   "outputs": [
    {
     "name": "stdout",
     "output_type": "stream",
     "text": [
      "[-20, -15, -10, -5, 0, 5, 10, 15, 20, 25, 30, 35, 40]\n"
     ]
    }
   ],
   "source": [
    "#or another way\n",
    "Cdegree = []\n",
    "Cdegree = list(range(-20,45,5))\n",
    "print(Cdegree)"
   ]
  },
  {
   "cell_type": "code",
   "execution_count": 54,
   "id": "8410b6f0",
   "metadata": {},
   "outputs": [
    {
     "data": {
      "text/plain": [
       "list"
      ]
     },
     "execution_count": 54,
     "metadata": {},
     "output_type": "execute_result"
    }
   ],
   "source": [
    "type(Cdegree)"
   ]
  },
  {
   "cell_type": "markdown",
   "id": "9c332ff3",
   "metadata": {},
   "source": [
    "`range()`only increment in `int` steps. Inorder to have float increment we do,"
   ]
  },
  {
   "cell_type": "code",
   "execution_count": 60,
   "id": "f0fc6158",
   "metadata": {},
   "outputs": [
    {
     "name": "stdout",
     "output_type": "stream",
     "text": [
      "[-10.0, -7.5, -5.0, -2.5, 0.0, 2.5, 5.0, 7.5, 10.0, 12.5, 15.0, 17.5, 20.0, 22.5, 25.0, 27.5, 30.0, 32.5, 35.0, 37.5, 40.0]\n"
     ]
    }
   ],
   "source": [
    "Cdegrees = []\n",
    "for i in range(0,21):\n",
    "    C = -10 + i*2.5\n",
    "    Cdegrees.append(C)\n",
    "print(Cdegrees)"
   ]
  },
  {
   "cell_type": "markdown",
   "id": "0029a312",
   "metadata": {},
   "source": [
    "We can iterate not only through the elements but also through the list indices."
   ]
  },
  {
   "cell_type": "code",
   "execution_count": 62,
   "id": "8eae7dd9",
   "metadata": {},
   "outputs": [
    {
     "name": "stdout",
     "output_type": "stream",
     "text": [
      "-10.0\n",
      " -7.5\n",
      " -5.0\n",
      " -2.5\n",
      "  0.0\n",
      "  2.5\n",
      "  5.0\n",
      "  7.5\n",
      " 10.0\n",
      " 12.5\n",
      " 15.0\n",
      " 17.5\n",
      " 20.0\n",
      " 22.5\n",
      " 25.0\n",
      " 27.5\n",
      " 30.0\n",
      " 32.5\n",
      " 35.0\n",
      " 37.5\n",
      " 40.0\n"
     ]
    }
   ],
   "source": [
    "for i in range(len(Cdegrees)):\n",
    "    i = Cdegrees[i]\n",
    "    print('%5.1f'%i)"
   ]
  },
  {
   "cell_type": "markdown",
   "id": "e719e0e5",
   "metadata": {},
   "source": [
    "loop iteration is useful when we need to process two list simultaneously"
   ]
  },
  {
   "cell_type": "code",
   "execution_count": 63,
   "id": "7f9d6591",
   "metadata": {},
   "outputs": [
    {
     "name": "stdout",
     "output_type": "stream",
     "text": [
      "[14.0, 18.5, 23.0, 27.5, 32.0, 36.5, 41.0, 45.5, 50.0, 54.5, 59.0, 63.5, 68.0, 72.5, 77.0, 81.5, 86.0, 90.5, 95.0, 99.5, 104.0]\n"
     ]
    }
   ],
   "source": [
    "Fdegree = []\n",
    "for C in Cdegrees:\n",
    "    F = (9.0/5)*C + 32\n",
    "    Fdegree.append(F)\n",
    "print(Fdegree)"
   ]
  },
  {
   "cell_type": "code",
   "execution_count": 66,
   "id": "2a809b51",
   "metadata": {},
   "outputs": [
    {
     "name": "stdout",
     "output_type": "stream",
     "text": [
      "-10.0  14.0\n",
      " -7.5  18.5\n",
      " -5.0  23.0\n",
      " -2.5  27.5\n",
      "  0.0  32.0\n",
      "  2.5  36.5\n",
      "  5.0  41.0\n",
      "  7.5  45.5\n",
      " 10.0  50.0\n",
      " 12.5  54.5\n",
      " 15.0  59.0\n",
      " 17.5  63.5\n",
      " 20.0  68.0\n",
      " 22.5  72.5\n",
      " 25.0  77.0\n",
      " 27.5  81.5\n",
      " 30.0  86.0\n",
      " 32.5  90.5\n",
      " 35.0  95.0\n",
      " 37.5  99.5\n",
      " 40.0 104.0\n"
     ]
    }
   ],
   "source": [
    "for i in range(len(Cdegrees)):\n",
    "    C = Cdegrees[i]\n",
    "    F = Fdegree[i]\n",
    "    print('%5.1f %5.1f'%(C,F))"
   ]
  },
  {
   "cell_type": "markdown",
   "id": "15249af3",
   "metadata": {},
   "source": [
    "To change the list element, only the assignment of the form `Cdegree[i] += 5` can change the list element not  \n",
    "`for c in Cdegrees:\n",
    "   c += 5`\n",
    "   \n",
    "The problem is that c is an ordinary variable, which refers to a list element in the loop, but when we execute c += 5, we let c refer to a new float object (c+5). This object is never inserted in the list"
   ]
  },
  {
   "cell_type": "markdown",
   "id": "5be7e120",
   "metadata": {},
   "source": [
    "**List Comprehension**  \n",
    "  \n",
    "`newlist = [E(e) for e in list]` E(e) is an expression involving element e."
   ]
  },
  {
   "cell_type": "code",
   "execution_count": 1,
   "id": "0d921a52",
   "metadata": {},
   "outputs": [
    {
     "name": "stdout",
     "output_type": "stream",
     "text": [
      "[-10.0, -7.5, -5.0, -2.5, 0.0, 2.5, 5.0, 7.5, 10.0, 12.5, 15.0, 17.5, 20.0, 22.5, 25.0, 27.5, 30.0, 32.5, 35.0, 37.5, 40.0]\n"
     ]
    }
   ],
   "source": [
    "Cdegree = [-10 + i*2.5 for i in range(21)]\n",
    "print(Cdegree)"
   ]
  },
  {
   "cell_type": "code",
   "execution_count": 2,
   "id": "2f5f67f7",
   "metadata": {},
   "outputs": [
    {
     "name": "stdout",
     "output_type": "stream",
     "text": [
      "[14.0, 18.5, 23.0, 27.5, 32.0, 36.5, 41.0, 45.5, 50.0, 54.5, 59.0, 63.5, 68.0, 72.5, 77.0, 81.5, 86.0, 90.5, 95.0, 99.5, 104.0]\n"
     ]
    }
   ],
   "source": [
    "Fdegree = [(9.0/5)*C + 32 for C in Cdegree]\n",
    "print(Fdegree)"
   ]
  },
  {
   "cell_type": "code",
   "execution_count": 71,
   "id": "ada0153b",
   "metadata": {},
   "outputs": [
    {
     "name": "stdout",
     "output_type": "stream",
     "text": [
      "[-5.0, -2.5, 0.0, 2.5, 5.0, 7.5, 10.0, 12.5, 15.0, 17.5, 20.0, 22.5, 25.0, 27.5, 30.0, 32.5, 35.0, 37.5, 40.0, 42.5, 45.0]\n"
     ]
    }
   ],
   "source": [
    "C_plus_5 = [C+5 for C in Cdegree]\n",
    "print(C_plus_5)"
   ]
  },
  {
   "cell_type": "markdown",
   "id": "5de4c419",
   "metadata": {},
   "source": [
    "**Traversing multiple lists simultaneously**  \n",
    "```python\n",
    "for e1, e2, e3, ... in zip(list1, list2, list3, ...):\n",
    "     #work with element e1 from list1, element e2 from list2,  \n",
    "     #element e3 from list3, etc.\n",
    "```\n",
    "\n",
    "The zip function turns n lists (list1, list2, list3, ...) into one list of n-tuples, where each n-tuple (e1,e2,e3,...) has its first element (e1) from the first list (list1), the second element (e2) from the second list (list2), and so forth. The loop stops when the end of the shortest list is reached."
   ]
  },
  {
   "cell_type": "code",
   "execution_count": 3,
   "id": "073ac566",
   "metadata": {},
   "outputs": [
    {
     "name": "stdout",
     "output_type": "stream",
     "text": [
      "-10.0 C  14.0 F\n",
      " -7.5 C  18.5 F\n",
      " -5.0 C  23.0 F\n",
      " -2.5 C  27.5 F\n",
      "  0.0 C  32.0 F\n",
      "  2.5 C  36.5 F\n",
      "  5.0 C  41.0 F\n",
      "  7.5 C  45.5 F\n",
      " 10.0 C  50.0 F\n",
      " 12.5 C  54.5 F\n",
      " 15.0 C  59.0 F\n",
      " 17.5 C  63.5 F\n",
      " 20.0 C  68.0 F\n",
      " 22.5 C  72.5 F\n",
      " 25.0 C  77.0 F\n",
      " 27.5 C  81.5 F\n",
      " 30.0 C  86.0 F\n",
      " 32.5 C  90.5 F\n",
      " 35.0 C  95.0 F\n",
      " 37.5 C  99.5 F\n",
      " 40.0 C 104.0 F\n"
     ]
    }
   ],
   "source": [
    "for C,F in zip(Cdegree,Fdegree):\n",
    "    print('%5.1f C %5.1f F'%(C,F))"
   ]
  },
  {
   "cell_type": "markdown",
   "id": "0d440174",
   "metadata": {},
   "source": [
    "### Nested lists"
   ]
  },
  {
   "cell_type": "markdown",
   "id": "ab0a6c20",
   "metadata": {},
   "source": [
    "Here we create a nested list table with columns of C,F"
   ]
  },
  {
   "cell_type": "code",
   "execution_count": 43,
   "id": "1b12640c",
   "metadata": {},
   "outputs": [
    {
     "data": {
      "text/plain": [
       "[[-10.0,\n",
       "  -7.5,\n",
       "  -5.0,\n",
       "  -2.5,\n",
       "  0.0,\n",
       "  2.5,\n",
       "  5.0,\n",
       "  7.5,\n",
       "  10.0,\n",
       "  12.5,\n",
       "  15.0,\n",
       "  17.5,\n",
       "  20.0,\n",
       "  22.5,\n",
       "  25.0,\n",
       "  27.5,\n",
       "  30.0,\n",
       "  32.5,\n",
       "  35.0,\n",
       "  37.5,\n",
       "  40.0],\n",
       " [14.0,\n",
       "  18.5,\n",
       "  23.0,\n",
       "  27.5,\n",
       "  32.0,\n",
       "  36.5,\n",
       "  41.0,\n",
       "  45.5,\n",
       "  50.0,\n",
       "  54.5,\n",
       "  59.0,\n",
       "  63.5,\n",
       "  68.0,\n",
       "  72.5,\n",
       "  77.0,\n",
       "  81.5,\n",
       "  86.0,\n",
       "  90.5,\n",
       "  95.0,\n",
       "  99.5,\n",
       "  104.0]]"
      ]
     },
     "execution_count": 43,
     "metadata": {},
     "output_type": "execute_result"
    }
   ],
   "source": [
    "table = [Cdegree, Fdegree]\n",
    "\n",
    "table"
   ]
  },
  {
   "cell_type": "code",
   "execution_count": 44,
   "id": "9515bf7a",
   "metadata": {},
   "outputs": [
    {
     "data": {
      "text/plain": [
       "23.0"
      ]
     },
     "execution_count": 44,
     "metadata": {},
     "output_type": "execute_result"
    }
   ],
   "source": [
    "table[1][2]"
   ]
  },
  {
   "cell_type": "markdown",
   "id": "ac7d4d3c",
   "metadata": {},
   "source": [
    "Another way is table of row, each row [C,F] is a list of two floats"
   ]
  },
  {
   "cell_type": "code",
   "execution_count": 51,
   "id": "537936fe",
   "metadata": {},
   "outputs": [
    {
     "data": {
      "text/plain": [
       "[[-10.0, 14.0],\n",
       " [-7.5, 18.5],\n",
       " [-5.0, 23.0],\n",
       " [-2.5, 27.5],\n",
       " [0.0, 32.0],\n",
       " [2.5, 36.5],\n",
       " [5.0, 41.0],\n",
       " [7.5, 45.5],\n",
       " [10.0, 50.0],\n",
       " [12.5, 54.5],\n",
       " [15.0, 59.0],\n",
       " [17.5, 63.5],\n",
       " [20.0, 68.0],\n",
       " [22.5, 72.5],\n",
       " [25.0, 77.0],\n",
       " [27.5, 81.5],\n",
       " [30.0, 86.0],\n",
       " [32.5, 90.5],\n",
       " [35.0, 95.0],\n",
       " [37.5, 99.5],\n",
       " [40.0, 104.0]]"
      ]
     },
     "execution_count": 51,
     "metadata": {},
     "output_type": "execute_result"
    }
   ],
   "source": [
    "table = [[C,F] for C,F in zip(Cdegree,Fdegree)]\n",
    "table"
   ]
  },
  {
   "cell_type": "code",
   "execution_count": 6,
   "id": "f5cae2c9",
   "metadata": {},
   "outputs": [
    {
     "data": {
      "text/plain": [
       "104.0"
      ]
     },
     "execution_count": 6,
     "metadata": {},
     "output_type": "execute_result"
    }
   ],
   "source": [
    "table[20][1]"
   ]
  },
  {
   "cell_type": "code",
   "execution_count": 28,
   "id": "366548f3",
   "metadata": {},
   "outputs": [
    {
     "data": {
      "text/plain": [
       "[[-10.0, 14.0],\n",
       " [-7.5, 18.5],\n",
       " [-5.0, 23.0],\n",
       " [-2.5, 27.5],\n",
       " [0.0, 32.0],\n",
       " [2.5, 36.5],\n",
       " [5.0, 41.0],\n",
       " [7.5, 45.5],\n",
       " [10.0, 50.0],\n",
       " [12.5, 54.5],\n",
       " [15.0, 59.0],\n",
       " [17.5, 63.5],\n",
       " [20.0, 68.0],\n",
       " [22.5, 72.5],\n",
       " [25.0, 77.0],\n",
       " [27.5, 81.5],\n",
       " [30.0, 86.0],\n",
       " [32.5, 90.5],\n",
       " [35.0, 95.0],\n",
       " [37.5, 99.5],\n",
       " [40.0, 104.0]]"
      ]
     },
     "execution_count": 28,
     "metadata": {},
     "output_type": "execute_result"
    }
   ],
   "source": [
    "table = []\n",
    "for C,F in zip(Cdegree,Fdegree):\n",
    "    table.append([C,F])\n",
    "    \n",
    "table"
   ]
  },
  {
   "cell_type": "code",
   "execution_count": 30,
   "id": "57389e34",
   "metadata": {},
   "outputs": [
    {
     "data": {
      "text/plain": [
       "-10.0"
      ]
     },
     "execution_count": 30,
     "metadata": {},
     "output_type": "execute_result"
    }
   ],
   "source": [
    "table[0][0]"
   ]
  },
  {
   "cell_type": "code",
   "execution_count": 31,
   "id": "f9e367d6",
   "metadata": {},
   "outputs": [
    {
     "name": "stdout",
     "output_type": "stream",
     "text": [
      "[[-10.0, 14.0],\n",
      " [-7.5, 18.5],\n",
      " [-5.0, 23.0],\n",
      " [-2.5, 27.5],\n",
      " [0.0, 32.0],\n",
      " [2.5, 36.5],\n",
      " [5.0, 41.0],\n",
      " [7.5, 45.5],\n",
      " [10.0, 50.0],\n",
      " [12.5, 54.5],\n",
      " [15.0, 59.0],\n",
      " [17.5, 63.5],\n",
      " [20.0, 68.0],\n",
      " [22.5, 72.5],\n",
      " [25.0, 77.0],\n",
      " [27.5, 81.5],\n",
      " [30.0, 86.0],\n",
      " [32.5, 90.5],\n",
      " [35.0, 95.0],\n",
      " [37.5, 99.5],\n",
      " [40.0, 104.0]]\n"
     ]
    }
   ],
   "source": [
    "import pprint\n",
    "pprint.pprint(table)"
   ]
  },
  {
   "cell_type": "code",
   "execution_count": 33,
   "id": "6006667c",
   "metadata": {},
   "outputs": [
    {
     "name": "stdout",
     "output_type": "stream",
     "text": [
      "[[-10.0, 14.0],\n",
      " [-7.5, 18.5],\n",
      " [-5.0, 23.0],\n",
      " [-2.5, 27.5],\n",
      " [0.0, 32.0],\n",
      " [2.5, 36.5],\n",
      " [5.0, 41.0],\n",
      " [7.5, 45.5],\n",
      " [10.0, 50.0],\n",
      " [12.5, 54.5],\n",
      " [15.0, 59.0],\n",
      " [17.5, 63.5],\n",
      " [20.0, 68.0],\n",
      " [22.5, 72.5],\n",
      " [25.0, 77.0],\n",
      " [27.5, 81.5],\n",
      " [30.0, 86.0],\n",
      " [32.5, 90.5],\n",
      " [35.0, 95.0],\n",
      " [37.5, 99.5],\n",
      " [40.0, 104.0]]\n"
     ]
    }
   ],
   "source": [
    "s = pprint.pformat(table)\n",
    "print(s)"
   ]
  },
  {
   "cell_type": "markdown",
   "id": "cc162779",
   "metadata": {},
   "source": [
    "### Extracting sublist or Slicing"
   ]
  },
  {
   "cell_type": "markdown",
   "id": "510e9dd6",
   "metadata": {},
   "source": [
    "**A[i:]** is the sublist starting with index i in A and continuing to the end of A:"
   ]
  },
  {
   "cell_type": "code",
   "execution_count": 7,
   "id": "0aa22c42",
   "metadata": {},
   "outputs": [
    {
     "data": {
      "text/plain": [
       "[5.3, 8, 9, 10]"
      ]
     },
     "execution_count": 7,
     "metadata": {},
     "output_type": "execute_result"
    }
   ],
   "source": [
    "A = [2,3.1,5.3,8,9,10]\n",
    "A[2:]"
   ]
  },
  {
   "cell_type": "markdown",
   "id": "6f3c4cc1",
   "metadata": {},
   "source": [
    "**A[i:j]** is the sublist starting with index **i** in A and continuing up to and including index **j-1**. Make sure you remember that the element corresponding to index j is not included in the sublist:"
   ]
  },
  {
   "cell_type": "code",
   "execution_count": 8,
   "id": "5d1d7427",
   "metadata": {},
   "outputs": [
    {
     "data": {
      "text/plain": [
       "[5.3, 8]"
      ]
     },
     "execution_count": 8,
     "metadata": {},
     "output_type": "execute_result"
    }
   ],
   "source": [
    "A[2:4]"
   ]
  },
  {
   "cell_type": "code",
   "execution_count": 9,
   "id": "1463f9c6",
   "metadata": {},
   "outputs": [
    {
     "data": {
      "text/plain": [
       "[3.1, 5.3, 8, 9]"
      ]
     },
     "execution_count": 9,
     "metadata": {},
     "output_type": "execute_result"
    }
   ],
   "source": [
    "A[1:5]"
   ]
  },
  {
   "cell_type": "code",
   "execution_count": 10,
   "id": "f40b2c9f",
   "metadata": {},
   "outputs": [
    {
     "data": {
      "text/plain": [
       "[3.1, 5.3, 8, 9, 10]"
      ]
     },
     "execution_count": 10,
     "metadata": {},
     "output_type": "execute_result"
    }
   ],
   "source": [
    "A[1:6]"
   ]
  },
  {
   "cell_type": "markdown",
   "id": "e8f91094",
   "metadata": {},
   "source": [
    "**A[:i]** is the sublist starting with index 0 in A and continuing up to and including the element with index i-1"
   ]
  },
  {
   "cell_type": "code",
   "execution_count": 11,
   "id": "ed8b46d8",
   "metadata": {},
   "outputs": [
    {
     "data": {
      "text/plain": [
       "[2, 3.1, 5.3, 8, 9]"
      ]
     },
     "execution_count": 11,
     "metadata": {},
     "output_type": "execute_result"
    }
   ],
   "source": [
    "A[:5]"
   ]
  },
  {
   "cell_type": "markdown",
   "id": "a1107f76",
   "metadata": {},
   "source": [
    "**A[1:-1]** extracts all elements except the first and the last (recall that index **-1 refers to the last element**)"
   ]
  },
  {
   "cell_type": "code",
   "execution_count": 12,
   "id": "96eae1c0",
   "metadata": {},
   "outputs": [
    {
     "data": {
      "text/plain": [
       "[3.1, 5.3, 8, 9]"
      ]
     },
     "execution_count": 12,
     "metadata": {},
     "output_type": "execute_result"
    }
   ],
   "source": [
    "A[1:-1]"
   ]
  },
  {
   "cell_type": "markdown",
   "id": "be6ac2f8",
   "metadata": {},
   "source": [
    "**A[:]** is the whole list"
   ]
  },
  {
   "cell_type": "code",
   "execution_count": 13,
   "id": "ecb8b8ab",
   "metadata": {},
   "outputs": [
    {
     "data": {
      "text/plain": [
       "[2, 3.1, 5.3, 8, 9, 10]"
      ]
     },
     "execution_count": 13,
     "metadata": {},
     "output_type": "execute_result"
    }
   ],
   "source": [
    "A[:]"
   ]
  },
  {
   "cell_type": "markdown",
   "id": "3b9bd39d",
   "metadata": {},
   "source": [
    "Note:- **Sublists are always copies of the original list, so if you modify the sublist the original list remains unaltered and vice versa**"
   ]
  },
  {
   "cell_type": "code",
   "execution_count": 14,
   "id": "11511388",
   "metadata": {},
   "outputs": [
    {
     "data": {
      "text/plain": [
       "[[15.0, 59.0],\n",
       " [17.5, 63.5],\n",
       " [20.0, 68.0],\n",
       " [22.5, 72.5],\n",
       " [25.0, 77.0],\n",
       " [27.5, 81.5],\n",
       " [30.0, 86.0],\n",
       " [32.5, 90.5],\n",
       " [35.0, 95.0],\n",
       " [37.5, 99.5]]"
      ]
     },
     "execution_count": 14,
     "metadata": {},
     "output_type": "execute_result"
    }
   ],
   "source": [
    "table[10:-1]"
   ]
  },
  {
   "cell_type": "code",
   "execution_count": 26,
   "id": "d68562e9",
   "metadata": {},
   "outputs": [
    {
     "data": {
      "text/plain": [
       "[[22.5, 72.5]]"
      ]
     },
     "execution_count": 26,
     "metadata": {},
     "output_type": "execute_result"
    }
   ],
   "source": [
    "table[10:-1][3:4]"
   ]
  },
  {
   "cell_type": "code",
   "execution_count": 28,
   "id": "268a82fb",
   "metadata": {},
   "outputs": [
    {
     "data": {
      "text/plain": [
       "[22.5, 72.5]"
      ]
     },
     "execution_count": 28,
     "metadata": {},
     "output_type": "execute_result"
    }
   ],
   "source": [
    "table[10:-1][3:4][0]"
   ]
  },
  {
   "cell_type": "code",
   "execution_count": 29,
   "id": "ac7e590d",
   "metadata": {},
   "outputs": [
    {
     "data": {
      "text/plain": [
       "22.5"
      ]
     },
     "execution_count": 29,
     "metadata": {},
     "output_type": "execute_result"
    }
   ],
   "source": [
    "table[10:-1][3:4][0][0]"
   ]
  },
  {
   "cell_type": "code",
   "execution_count": 30,
   "id": "f0a52758",
   "metadata": {},
   "outputs": [
    {
     "data": {
      "text/plain": [
       "72.5"
      ]
     },
     "execution_count": 30,
     "metadata": {},
     "output_type": "execute_result"
    }
   ],
   "source": [
    "table[10:-1][3:4][0][1]"
   ]
  },
  {
   "cell_type": "code",
   "execution_count": 31,
   "id": "c9d096a3",
   "metadata": {},
   "outputs": [],
   "source": [
    "B = A[:]\n",
    "C = A"
   ]
  },
  {
   "cell_type": "code",
   "execution_count": 32,
   "id": "37cc5853",
   "metadata": {},
   "outputs": [
    {
     "data": {
      "text/plain": [
       "True"
      ]
     },
     "execution_count": 32,
     "metadata": {},
     "output_type": "execute_result"
    }
   ],
   "source": [
    "C == A"
   ]
  },
  {
   "cell_type": "code",
   "execution_count": 33,
   "id": "25f5fe14",
   "metadata": {},
   "outputs": [
    {
     "data": {
      "text/plain": [
       "True"
      ]
     },
     "execution_count": 33,
     "metadata": {},
     "output_type": "execute_result"
    }
   ],
   "source": [
    "C is A"
   ]
  },
  {
   "cell_type": "code",
   "execution_count": 34,
   "id": "8bdd6a7e",
   "metadata": {},
   "outputs": [
    {
     "data": {
      "text/plain": [
       "False"
      ]
     },
     "execution_count": 34,
     "metadata": {},
     "output_type": "execute_result"
    }
   ],
   "source": [
    "B is A"
   ]
  },
  {
   "cell_type": "code",
   "execution_count": 36,
   "id": "a1545ebd",
   "metadata": {},
   "outputs": [
    {
     "data": {
      "text/plain": [
       "True"
      ]
     },
     "execution_count": 36,
     "metadata": {},
     "output_type": "execute_result"
    }
   ],
   "source": [
    "B == A"
   ]
  },
  {
   "cell_type": "markdown",
   "id": "2974fc85",
   "metadata": {},
   "source": [
    "The B == A boolean expression is True if all elements in B are equal to the corresponding elements in A. The test B is A is True if A and B are names for the same list. Setting C = A makes C refer to the same list object as A, while B = A[:] makes B refer to a copy of the list referred to by A."
   ]
  },
  {
   "cell_type": "code",
   "execution_count": 52,
   "id": "7d4f7548",
   "metadata": {},
   "outputs": [
    {
     "data": {
      "text/plain": [
       "[[-10.0, 14.0],\n",
       " [-7.5, 18.5],\n",
       " [-5.0, 23.0],\n",
       " [-2.5, 27.5],\n",
       " [0.0, 32.0],\n",
       " [2.5, 36.5],\n",
       " [5.0, 41.0],\n",
       " [7.5, 45.5],\n",
       " [10.0, 50.0],\n",
       " [12.5, 54.5],\n",
       " [15.0, 59.0],\n",
       " [17.5, 63.5],\n",
       " [20.0, 68.0],\n",
       " [22.5, 72.5],\n",
       " [25.0, 77.0],\n",
       " [27.5, 81.5],\n",
       " [30.0, 86.0],\n",
       " [32.5, 90.5],\n",
       " [35.0, 95.0],\n",
       " [37.5, 99.5],\n",
       " [40.0, 104.0]]"
      ]
     },
     "execution_count": 52,
     "metadata": {},
     "output_type": "execute_result"
    }
   ],
   "source": [
    "table"
   ]
  },
  {
   "cell_type": "code",
   "execution_count": 57,
   "id": "cf1a487d",
   "metadata": {},
   "outputs": [
    {
     "name": "stdout",
     "output_type": "stream",
     "text": [
      "10.0 50.0\n",
      "12.5 54.5\n",
      "15.0 59.0\n",
      "17.5 63.5\n",
      "20.0 68.0\n",
      "22.5 72.5\n",
      "25.0 77.0\n",
      "27.5 81.5\n",
      "30.0 86.0\n",
      "32.5 90.5\n"
     ]
    }
   ],
   "source": [
    "for C,F in table [Cdegree.index(10):Cdegree.index(35)]:\n",
    "    print(C,F)"
   ]
  },
  {
   "cell_type": "code",
   "execution_count": 54,
   "id": "7318cbf5",
   "metadata": {},
   "outputs": [
    {
     "data": {
      "text/plain": [
       "[[10.0, 50.0],\n",
       " [12.5, 54.5],\n",
       " [15.0, 59.0],\n",
       " [17.5, 63.5],\n",
       " [20.0, 68.0],\n",
       " [22.5, 72.5],\n",
       " [25.0, 77.0],\n",
       " [27.5, 81.5],\n",
       " [30.0, 86.0],\n",
       " [32.5, 90.5]]"
      ]
     },
     "execution_count": 54,
     "metadata": {},
     "output_type": "execute_result"
    }
   ],
   "source": [
    "table [Cdegree.index(10):Cdegree.index(35)]"
   ]
  },
  {
   "cell_type": "code",
   "execution_count": 60,
   "id": "94edce35",
   "metadata": {},
   "outputs": [
    {
     "name": "stdout",
     "output_type": "stream",
     "text": [
      "8\n",
      "18\n"
     ]
    }
   ],
   "source": [
    "print(Cdegree.index(10))\n",
    "print(Cdegree.index(35))"
   ]
  },
  {
   "cell_type": "markdown",
   "id": "1ebb04c3",
   "metadata": {},
   "source": [
    "`Cdegree.index(10)`  **returns the index corresponding to the value 10**.  \n",
    "Helpfull if we don't know the index but need a range of value we can do this.\n"
   ]
  },
  {
   "cell_type": "markdown",
   "id": "14422623",
   "metadata": {},
   "source": [
    "The above for loop is equivalent to:"
   ]
  },
  {
   "cell_type": "code",
   "execution_count": 65,
   "id": "f71d87d3",
   "metadata": {},
   "outputs": [
    {
     "name": "stdout",
     "output_type": "stream",
     "text": [
      "10.0 50.0\n",
      "12.5 54.5\n",
      "15.0 59.0\n",
      "17.5 63.5\n",
      "20.0 68.0\n",
      "22.5 72.5\n",
      "25.0 77.0\n",
      "27.5 81.5\n",
      "30.0 86.0\n",
      "32.5 90.5\n"
     ]
    }
   ],
   "source": [
    "for C,F in table[8:18]:\n",
    "    print(C,F)"
   ]
  },
  {
   "cell_type": "markdown",
   "id": "eac867a3",
   "metadata": {},
   "source": [
    "### Traversing nested list\n",
    "\n",
    "If we donot know how many elements there are in  each list element of the list in the nested list  \n",
    "eg:  Suppose we use a nested list scores to record the scores of players in a game: scores[i] holds a list of the historical scores obtained by player number i. Different players have played the game a different number of times, so the length of scores[i] depends on i."
   ]
  },
  {
   "cell_type": "code",
   "execution_count": 66,
   "id": "e2423e4b",
   "metadata": {},
   "outputs": [],
   "source": [
    "scores = []\n",
    "# score of player 0\n",
    "scores.append([3,2,1,8,10])\n",
    "# score of player 1\n",
    "scores.append([2,0,3])\n",
    "# score of player 2\n",
    "scores.append([9])\n",
    "# score of player 3\n",
    "scores.append([10,3,6,9,9,0,5,3,2,7,6])"
   ]
  },
  {
   "cell_type": "code",
   "execution_count": 67,
   "id": "f68b8356",
   "metadata": {},
   "outputs": [
    {
     "data": {
      "text/plain": [
       "[[3, 2, 1, 8, 10], [2, 0, 3], [9], [10, 3, 6, 9, 9, 0, 5, 3, 2, 7, 6]]"
      ]
     },
     "execution_count": 67,
     "metadata": {},
     "output_type": "execute_result"
    }
   ],
   "source": [
    "scores"
   ]
  },
  {
   "cell_type": "code",
   "execution_count": 72,
   "id": "477ffe9e",
   "metadata": {},
   "outputs": [
    {
     "data": {
      "text/plain": [
       "0"
      ]
     },
     "execution_count": 72,
     "metadata": {},
     "output_type": "execute_result"
    }
   ],
   "source": [
    "# traversing using index\n",
    "score = [scores[p] for p in range(len(scores))]\n",
    "score[1][1]"
   ]
  },
  {
   "cell_type": "code",
   "execution_count": 74,
   "id": "76f03ff8",
   "metadata": {},
   "outputs": [],
   "source": [
    "score = [scores[p][g] for p in range(len(scores)) for g in range(len(scores[p])) ]"
   ]
  },
  {
   "cell_type": "code",
   "execution_count": 75,
   "id": "14776504",
   "metadata": {},
   "outputs": [
    {
     "data": {
      "text/plain": [
       "[3, 2, 1, 8, 10, 2, 0, 3, 9, 10, 3, 6, 9, 9, 0, 5, 3, 2, 7, 6]"
      ]
     },
     "execution_count": 75,
     "metadata": {},
     "output_type": "execute_result"
    }
   ],
   "source": [
    "score"
   ]
  },
  {
   "cell_type": "code",
   "execution_count": 96,
   "id": "0c086fc9",
   "metadata": {},
   "outputs": [
    {
     "name": "stdout",
     "output_type": "stream",
     "text": [
      "   3   2   1   8  10\n",
      "   2   0   3\n",
      "   9\n",
      "  10   3   6   9   9   0   5   3   2   7   6\n"
     ]
    }
   ],
   "source": [
    "for p in range(len(scores)):\n",
    "    for g in range(len(scores[p])):\n",
    "        score = scores[p][g]\n",
    "        print(\"%4d\"%score,end=\"\")\n",
    "    print()"
   ]
  },
  {
   "cell_type": "code",
   "execution_count": 98,
   "id": "6c8520d2",
   "metadata": {},
   "outputs": [
    {
     "name": "stdout",
     "output_type": "stream",
     "text": [
      "  3  2  1  8 10\n",
      "  2  0  3\n",
      "  9\n",
      " 10  3  6  9  9  0  5  3  2  7  6\n"
     ]
    }
   ],
   "source": [
    "# variable version iteration\n",
    "for player in scores:\n",
    "    for game in player:\n",
    "        print(\"%3d\"%game,end=\"\")\n",
    "    print()"
   ]
  },
  {
   "cell_type": "markdown",
   "id": "e5e6b40e",
   "metadata": {},
   "source": [
    "### Tuple\n",
    "\n",
    "- A tuple can be viewed as a constant list: no changes in the contents of the tuple is allowed. Tuples employ standard parentheses or no parentheses, and elements are separated with comma as in lists.\n",
    "- Many list operations are also valid for tuples, but **those that changes the list content cannot be used with tuples `(examples are append, del, remove, index, and sort)`**.\n",
    "- An object a containing an ordered collection of other objects such that a[i]refers to object with index i in the collection, is known as a *sequence* in Python. eg: lists,tuples,arrays\n",
    "- For a collection of unordered objects a dictionary is often more convenient."
   ]
  },
  {
   "cell_type": "markdown",
   "id": "ac2dcd17",
   "metadata": {},
   "source": [
    "Implemetation of a sum $$\\sum_{j = M}^{N}q(j)$$ where $q(j)$ is some mathematical expression involving integer counter j is normally implemeted using for loop.  \n",
    "eg: $q(j) = \\frac{1}{j^2}$"
   ]
  },
  {
   "cell_type": "code",
   "execution_count": 147,
   "id": "2951564d",
   "metadata": {},
   "outputs": [
    {
     "name": "stdout",
     "output_type": "stream",
     "text": [
      "s = 1.00, j =   1\n",
      "s = 1.25, j =   2\n",
      "s = 1.36, j =   3\n",
      "s = 1.42, j =   4\n",
      "s = 1.46, j =   5\n"
     ]
    }
   ],
   "source": [
    "M = 1;\n",
    "N = 10\n",
    "s = 0;\n",
    "for j in range (1,6,1):\n",
    "    s += 1./j**2\n",
    "    print(\"s = %3.2f, j = %3d\"%(s,j))"
   ]
  },
  {
   "cell_type": "code",
   "execution_count": 144,
   "id": "a5a8c2df",
   "metadata": {},
   "outputs": [
    {
     "name": "stdout",
     "output_type": "stream",
     "text": [
      "[1.0, 0.25, 0.1111111111111111, 0.0625, 0.04, 0.027777777777777776, 0.02040816326530612, 0.015625, 0.012345679012345678, 0.01]\n"
     ]
    }
   ],
   "source": [
    "#or\n",
    "Sum = 0\n",
    "Sum = [(Sum + 1./j**2) for j in range(1,11)]\n",
    "print(Summ)"
   ]
  },
  {
   "cell_type": "code",
   "execution_count": 138,
   "id": "cd102bc8",
   "metadata": {},
   "outputs": [
    {
     "name": "stdout",
     "output_type": "stream",
     "text": [
      "[0, 1, 4, 9, 16, 25]\n"
     ]
    }
   ],
   "source": [
    "sum_of_squares = [num ** 2 for num in range(6)]\n",
    "print(sum_of_squares)"
   ]
  },
  {
   "cell_type": "code",
   "execution_count": 151,
   "id": "8ade54ef",
   "metadata": {},
   "outputs": [
    {
     "ename": "TypeError",
     "evalue": "'list' object is not callable",
     "output_type": "error",
     "traceback": [
      "\u001b[0;31m---------------------------------------------------------------------------\u001b[0m",
      "\u001b[0;31mTypeError\u001b[0m                                 Traceback (most recent call last)",
      "Cell \u001b[0;32mIn[151], line 4\u001b[0m\n\u001b[1;32m      1\u001b[0m numbers \u001b[38;5;241m=\u001b[39m [\u001b[38;5;241m1\u001b[39m, \u001b[38;5;241m2\u001b[39m, \u001b[38;5;241m3\u001b[39m, \u001b[38;5;241m4\u001b[39m, \u001b[38;5;241m5\u001b[39m]\n\u001b[1;32m      3\u001b[0m \u001b[38;5;66;03m# List comprehension to calculate sum of inverse square function\u001b[39;00m\n\u001b[0;32m----> 4\u001b[0m sum_of_inverses \u001b[38;5;241m=\u001b[39m \u001b[38;5;28;43msum\u001b[39;49m\u001b[43m(\u001b[49m\u001b[43m[\u001b[49m\u001b[38;5;241;43m1\u001b[39;49m\u001b[38;5;241;43m/\u001b[39;49m\u001b[43m(\u001b[49m\u001b[43mx\u001b[49m\u001b[38;5;241;43m*\u001b[39;49m\u001b[38;5;241;43m*\u001b[39;49m\u001b[38;5;241;43m2\u001b[39;49m\u001b[43m)\u001b[49m\u001b[43m \u001b[49m\u001b[38;5;28;43;01mfor\u001b[39;49;00m\u001b[43m \u001b[49m\u001b[43mx\u001b[49m\u001b[43m \u001b[49m\u001b[38;5;129;43;01min\u001b[39;49;00m\u001b[43m \u001b[49m\u001b[38;5;28;43mrange\u001b[39;49m\u001b[43m(\u001b[49m\u001b[38;5;241;43m1\u001b[39;49m\u001b[43m,\u001b[49m\u001b[38;5;241;43m6\u001b[39;49m\u001b[43m)\u001b[49m\u001b[43m]\u001b[49m\u001b[43m)\u001b[49m\n\u001b[1;32m      6\u001b[0m \u001b[38;5;28mprint\u001b[39m(sum_of_inverses) \u001b[38;5;66;03m# Output: 1.4636111111111112\u001b[39;00m\n",
      "\u001b[0;31mTypeError\u001b[0m: 'list' object is not callable"
     ]
    }
   ],
   "source": [
    "numbers = [1, 2, 3, 4, 5]\n",
    "\n",
    "# List comprehension to calculate sum of inverse square function\n",
    "sum_of_inverses = sum([1/(x**2) for x in range(1,6)])\n",
    "\n",
    "print(sum_of_inverses) # Output: 1.4636111111111112\n"
   ]
  },
  {
   "cell_type": "code",
   "execution_count": 150,
   "id": "e8ae8442",
   "metadata": {},
   "outputs": [
    {
     "ename": "TypeError",
     "evalue": "'list' object is not callable",
     "output_type": "error",
     "traceback": [
      "\u001b[0;31m---------------------------------------------------------------------------\u001b[0m",
      "\u001b[0;31mTypeError\u001b[0m                                 Traceback (most recent call last)",
      "Cell \u001b[0;32mIn[150], line 8\u001b[0m\n\u001b[1;32m      5\u001b[0m inverse_squares \u001b[38;5;241m=\u001b[39m [(\u001b[38;5;241m1\u001b[39m\u001b[38;5;241m/\u001b[39mx\u001b[38;5;241m*\u001b[39m\u001b[38;5;241m*\u001b[39m\u001b[38;5;241m2\u001b[39m) \u001b[38;5;28;01mfor\u001b[39;00m x \u001b[38;5;129;01min\u001b[39;00m numbers]\n\u001b[1;32m      7\u001b[0m \u001b[38;5;66;03m# Calculate the sum of the inverse squares using the built-in sum() function (correct)\u001b[39;00m\n\u001b[0;32m----> 8\u001b[0m sum_inverse_squares \u001b[38;5;241m=\u001b[39m \u001b[38;5;28;43msum\u001b[39;49m\u001b[43m(\u001b[49m\u001b[43minverse_squares\u001b[49m\u001b[43m)\u001b[49m\n\u001b[1;32m     10\u001b[0m \u001b[38;5;66;03m# Print the result\u001b[39;00m\n\u001b[1;32m     11\u001b[0m \u001b[38;5;28mprint\u001b[39m(sum_inverse_squares)\n",
      "\u001b[0;31mTypeError\u001b[0m: 'list' object is not callable"
     ]
    }
   ],
   "source": [
    "# Define a list of numbers\n",
    "numbers = [1, 2, 3, 4, 5]\n",
    "\n",
    "# Use a list comprehension to find the inverse square of each number\n",
    "inverse_squares = [(1/x**2) for x in numbers]\n",
    "\n",
    "# Calculate the sum of the inverse squares using the built-in sum() function (correct)\n",
    "sum_inverse_squares = sum(inverse_squares)\n",
    "\n",
    "# Print the result\n",
    "print(sum_inverse_squares)\n",
    "\n"
   ]
  },
  {
   "cell_type": "markdown",
   "id": "099fd32a",
   "metadata": {},
   "source": [
    "### Example : Analyzing the list Data"
   ]
  },
  {
   "cell_type": "markdown",
   "id": "248c690a",
   "metadata": {},
   "source": [
    "The file contains data of the number of sun hours in Oxford, UK, for every month since January 1929. The data are already on a suitable nested list format:  \n",
    "The list in every line holds the number of sun hours for each of the year’s 12 months. That is, the first index in the nested list corresponds to year and the second index corresponds to the month number. More precisely, the double index [i][j] corresponds to year 1929 C i and month 1 C j (January being month number 1).\n",
    "The task is to define this nested list in a program and do the following data analysis.\n",
    "\n",
    "- Compute the average number of sun hours for each month during the total data period (1929–2009).\n",
    "- Which month has the best weather according to the means found in the preceding task?\n",
    "- For each decade, 1930–1939, 1940–1949, . . ., 2000–2009, compute the average number of sun hours per day in January and December. For example, use December 1949, January 1950, . . , December 1958, and January 1959 as data for the decade 1950–1959. Are there any noticeable differences between the decades?"
   ]
  },
  {
   "cell_type": "code",
   "execution_count": 155,
   "id": "682392f7",
   "metadata": {},
   "outputs": [],
   "source": [
    "data = [\n",
    "[43.8, 60.5, 190.2, 144.7, 240.9, 210.3, 219.7, 176.3, 199.1, 109.2, 78.7, 67.0],\n",
    "[49.9, 54.3, 109.7, 102.0, 134.5, 211.2, 174.1, 207.5, 108.2, 113.5, 68.7, 23.3],\n",
    "[63.7, 72.0, 142.3, 93.5, 150.1, 158.7, 127.9, 135.5, 92.3, 102.5, 62.4, 38.5],\n",
    "[51.0, 57.9, 133.4, 110.9, 112.4, 199.3, 124.0, 178.3, 102.1, 100.7, 55.7, 58.0],\n",
    "[69.5, 94.3, 187.6, 152.5, 170.2, 226.9, 237.6, 242.7, 177.3, 101.3, 53.9, 59.0],\n",
    "[65.9, 96.6, 122.5, 124.9, 216.3, 192.7, 269.3, 184.9, 149.1, 81.5, 48.7, 31.3],\n",
    "[48.1, 62.0, 121.5, 127.3, 188.5, 196.3, 274.3, 199.9, 144.7, 102.6, 65.4, 48.9],\n",
    "[43.4, 89.2, 71.4, 133.2, 179.5, 166.2, 119.2, 184.7, 79.3, 103.1, 48.9, 62.3],\n",
    "[50.9, 66.6, 99.7, 103.1, 185.0, 181.3, 140.1, 202.3, 143.0, 79.1, 65.9, 41.2],\n",
    "[41.2, 66.9, 172.3, 180.9, 144.9, 190.6, 133.5, 151.3, 110.9, 118.1, 70.0, 52.4],\n",
    "[46.4, 104.9, 86.2, 171.7, 184.9, 227.9, 139.7, 153.7, 147.0, 94.3, 41.1, 46.0],\n",
    "[83.1, 22.8, 128.3, 118.1, 215.4, 273.4, 165.1, 199.5, 179.5, 95.5, 76.8, 46.5],\n",
    "[41.7, 67.9, 118.7, 106.9, 141.9, 210.3, 227.5, 163.7, 123.7, 120.2, 47.1, 46.9],\n",
    "[45.1, 53.9, 69.4, 202.5, 209.4, 234.0, 150.1, 132.7, 124.5, 84.6, 57.8, 51.0],\n",
    "[54.7, 79.3, 132.9, 166.6, 244.1, 192.9, 196.7, 178.3, 142.5, 84.9, 72.3, 49.5],\n",
    "[41.2, 62.4, 142.7, 147.0, 235.6, 170.3, 97.5, 185.2, 143.8, 102.0, 49.3, 64.1],\n",
    "[51.5, 65.7, 152.6, 209.1, 156.1, 182.4, 159.0, 144.8, 64.9, 111.7, 31.0, 46.6],\n",
    "[49.9, 78.7, 107.2, 203.3, 162.9, 149.8, 197.6, 134.8, 98.5, 79.3, 42.9, 74.7],\n",
    "[59.5, 26.3, 70.9, 150.5, 147.3, 185.9, 144.5, 274.9, 159.9, 107.3, 75.4, 37.9],\n",
    "[45.7, 92.9, 160.2, 205.2, 237.1, 124.2, 174.7, 133.7, 146.4, 93.7, 68.6, 65.4],\n",
    "[51.0, 115.1, 112.5, 182.5, 233.3, 242.1, 262.5, 210.3, 151.1, 125.0, 76.2, 65.4],\n",
    "[40.6, 67.5, 138.8, 163.7, 174.1, 244.5, 174.0, 171.1, 112.7, 96.6, 56.9, 55.3],\n",
    "[48.9, 58.6, 92.6, 200.4, 152.1, 251.9, 216.7, 174.7, 110.8, 105.6, 75.1, 69.8],\n",
    "[94.1, 96.7, 105.0, 178.2, 207.0, 217.6, 194.0, 180.5, 140.3, 105.0, 72.1, 77.7],\n",
    "[42.5, 75.9, 140.7, 183.3, 223.0, 139.7, 203.4, 237.4, 151.7, 84.1, 54.4, 28.4],\n",
    "[75.7, 79.7, 107.9, 202.4, 145.9, 157.1, 157.1, 123.5, 168.8, 94.5, 60.1, 54.5],\n",
    "[40.1, 86.3, 161.4, 173.7, 217.5, 155.3, 268.3, 188.0, 153.1, 119.7, 71.5, 47.3],\n",
    "[50.3, 78.9, 149.7, 158.7, 246.6, 145.0, 168.0, 161.4, 94.3, 116.5, 77.9, 18.2],\n",
    "[50.8, 83.1, 110.2, 168.0, 205.6, 297.1, 157.9, 170.5, 102.6, 92.9, 76.4, 62.3],\n",
    "[54.6, 55.4, 110.7, 145.2, 196.0, 145.7, 188.1, 119.6, 118.0, 93.7, 51.8, 29.5],\n",
    "[85.8, 65.5, 102.0, 153.8, 228.0, 226.3, 272.7, 245.6, 213.9, 144.2, 70.6, 45.0],\n",
    "[37.8, 82.3, 78.0, 164.9, 182.3, 274.9, 129.7, 147.1, 122.8, 60.9, 73.4, 54.5],\n",
    "[43.6, 65.1, 173.2, 86.9, 225.2, 231.2, 196.5, 185.7, 135.8, 118.2, 63.4, 76.5],\n",
    "[70.0, 70.6, 126.3, 143.3, 177.5, 280.3, 137.3, 154.5, 142.3, 108.8, 32.7, 72.6],\n",
    "[58.9, 66.4, 85.8, 119.1, 193.4, 199.4, 188.2, 142.6, 129.7, 78.8, 60.4, 49.8],\n",
    "[37.2, 57.3, 65.9, 128.5, 190.8, 156.1, 214.7, 217.7, 210.4, 134.5, 55.0, 51.1],\n",
    "[83.7, 31.1, 137.7, 141.6, 179.6, 188.7, 122.8, 181.2, 122.9, 109.9, 77.4, 71.9],\n",
    "[42.5, 41.5, 121.5, 81.5, 234.9, 199.0, 149.7, 188.6, 168.0, 90.4, 61.0, 41.7],\n",
    "[64.2, 88.2, 174.6, 130.8, 184.2, 232.0, 234.4, 167.1, 116.5, 95.1, 69.2, 70.6],\n",
    "[50.0, 54.0, 148.5, 184.5, 155.0, 206.6, 136.2, 124.0, 114.9, 66.5, 47.9, 35.9],\n",
    "[40.0, 78.1, 70.5, 221.3, 161.9, 276.9, 243.8, 157.5, 97.4, 112.0, 84.6, 35.6],\n",
    "[34.5, 115.9, 120.8, 132.7, 224.8, 270.9, 192.4, 185.6, 157.3, 106.2, 64.7, 43.8],\n",
    "[42.1, 69.5, 106.0, 122.9, 228.9, 143.5, 259.3, 134.2, 166.5, 135.2, 102.0, 29.8],\n",
    "[41.8, 27.3, 144.0, 117.6, 141.9, 150.4, 168.7, 160.9, 129.1, 91.6, 80.6, 47.6],\n",
    "[38.8, 74.1, 150.7, 167.7, 168.0, 249.5, 171.1, 192.0, 153.9, 95.1, 89.1, 62.9],\n",
    "[56.3, 58.3, 101.7, 142.1, 191.4, 206.2, 187.8, 198.7, 146.5, 105.4, 52.9, 58.8],\n",
    "[44.7, 57.8, 72.7, 131.4, 159.1, 301.0, 242.4, 218.6, 147.0, 120.7, 85.1, 34.4],\n",
    "[70.3, 42.6, 107.8, 148.7, 172.0, 261.4, 254.2, 257.4, 118.2, 43.6, 54.1, 58.6],\n",
    "[35.4, 74.4, 87.2, 157.9, 217.5, 123.2, 193.6, 123.4, 101.8, 107.3, 102.4, 45.2],\n",
    "[53.6, 58.9, 128.1, 113.6, 202.8, 171.7, 146.4, 157.4, 159.3, 87.5, 77.3, 34.3],\n",
    "[72.0, 67.3, 92.9, 126.4, 190.9, 166.6, 192.2, 167.4, 171.0, 117.0, 70.0, 59.7],\n",
    "[84.0, 58.8, 86.7, 165.4, 228.7, 186.7, 168.9, 169.0, 136.4, 111.8, 61.4, 64.4],\n",
    "[50.9, 75.3, 57.8, 110.4, 98.3, 122.8, 129.0, 199.8, 157.3, 101.9, 43.7, 57.5],\n",
    "[55.0, 33.8, 144.7, 164.4, 187.2, 148.4, 151.4, 159.8, 141.0, 66.3, 68.5, 60.4],\n",
    "[54.9, 74.0, 89.5, 150.5, 126.8, 180.3, 257.5, 214.5, 92.4, 119.7, 44.3, 62.9],\n",
    "[86.1, 66.0, 48.8, 236.8, 143.4, 244.3, 249.4, 199.8, 99.6, 88.6, 53.8, 57.6],\n",
    "[51.1, 78.0, 112.4, 138.3, 178.3, 165.0, 216.0, 164.9, 143.3, 100.8, 86.1, 44.2],\n",
    "[76.4, 71.2, 127.3, 139.6, 205.6, 222.7, 201.2, 147.0, 171.6, 119.7, 77.9, 64.8],\n",
    "[68.8, 67.8, 111.6, 158.7, 168.7, 129.3, 179.4, 158.2, 132.3, 109.5, 43.9, 42.9],\n",
    "[47.7, 103.7, 85.2, 132.0, 178.1, 142.3, 138.8, 178.8, 136.9, 120.0, 91.4, 46.7],\n",
    "[68.2, 107.0, 100.9, 133.9, 300.8, 244.4, 280.4, 269.5, 141.6, 90.8, 104.1, 26.5],\n",
    "[58.3, 95.7, 144.1, 234.4, 285.0, 121.1, 268.5, 236.6, 164.7, 124.4, 83.7, 58.8],\n",
    "[66.9, 60.0, 87.2, 156.6, 142.9, 150.0, 217.3, 241.4, 165.4, 79.4, 57.4, 58.4],\n",
    "[46.8, 67.3, 73.3, 139.2, 262.7, 212.2, 164.0, 173.6, 120.2, 101.3, 61.5, 47.2],\n",
    "[38.0, 54.7, 135.0, 111.9, 196.7, 231.4, 190.0, 238.3, 107.7, 120.0, 76.3, 55.0],\n",
    "[87.0, 77.6, 127.6, 177.7, 162.1, 254.9, 248.3, 191.8, 113.1, 137.5, 46.7, 68.2],\n",
    "[61.8, 74.9, 198.7, 190.1, 233.5, 194.4, 247.6, 285.1, 135.3, 139.9, 78.1, 40.9],\n",
    "[29.3, 103.4, 76.4, 148.3, 185.7, 290.7, 256.6, 211.6, 125.3, 130.8, 101.0, 55.5],\n",
    "[51.4, 64.2, 150.2, 189.9, 261.4, 137.1, 231.7, 172.0, 169.7, 153.8, 47.1, 55.7],\n",
    "[64.0, 113.0, 77.5, 105.8, 199.8, 114.0, 157.0, 225.0, 133.8, 94.5, 66.3, 38.1],\n",
    "[51.1, 81.3, 97.4, 147.6, 153.6, 202.1, 235.4, 159.2, 155.2, 144.8, 81.1, 60.9],\n",
    "[82.1, 104.9, 112.6, 143.4, 189.8, 164.6, 161.2, 209.4, 126.1, 83.9, 69.2, 51.9],\n",
    "[83.3, 85.0, 74.1, 148.2, 198.3, 226.8, 206.1, 184.1, 123.0, 100.9, 86.9, 79.2],\n",
    "[44.4, 80.5, 101.1, 210.0, 177.5, 163.3, 178.8, 166.2, 167.1, 104.8, 52.3, 41.3],\n",
    "[87.7, 94.4, 154.8, 169.8, 191.2, 213.6, 192.0, 228.4, 175.3, 134.8, 78.9, 53.6],\n",
    "[62.7, 79.1, 101.5, 150.3, 195.5, 223.6, 169.5, 194.1, 174.4, 102.4, 52.4, 58.3],\n",
    "[65.4, 66.3, 79.3, 136.3, 226.4, 177.6, 192.0, 235.7, 155.4, 92.0, 88.0, 55.7],\n",
    "[54.9, 73.1, 95.5, 152.5, 165.7, 246.2, 303.7, 167.2, 156.5, 109.0, 101.2, 42.7],\n",
    "[79.8, 67.6, 165.4, 210.7, 165.5, 149.0, 195.1, 209.2, 142.6, 102.5, 86.9, 57.2],\n",
    "[62.4, 124.1, 115.2, 161.2, 173.2, 223.8, 198.5, 141.8, 113.5, 132.2, 67.0, 73.5],\n",
    "[69.3, 64.5, 161.4, 168.4, 226.1, 203.3, 212.3, 190.6, 163.7, 109.7, 73.5, 61.5],\n",
    "]\n"
   ]
  },
  {
   "cell_type": "markdown",
   "id": "77c2565c",
   "metadata": {},
   "source": [
    "1."
   ]
  },
  {
   "cell_type": "code",
   "execution_count": 156,
   "id": "ae356799",
   "metadata": {},
   "outputs": [],
   "source": [
    "monthly_mean = []\n",
    "n = len(data)\n",
    "for month in range (12):\n",
    "    s = 0\n",
    "    for year in data:\n",
    "        s += year[month]\n",
    "    monthly_mean.append(s/n)"
   ]
  },
  {
   "cell_type": "code",
   "execution_count": 157,
   "id": "90113d87",
   "metadata": {},
   "outputs": [
    {
     "data": {
      "text/plain": [
       "[56.63827160493827,\n",
       " 72.66296296296298,\n",
       " 116.52222222222221,\n",
       " 153.20370370370367,\n",
       " 191.07037037037037,\n",
       " 198.54691358024692,\n",
       " 193.7506172839506,\n",
       " 184.3395061728395,\n",
       " 138.341975308642,\n",
       " 104.63333333333334,\n",
       " 67.37530864197531,\n",
       " 52.35432098765432]"
      ]
     },
     "execution_count": 157,
     "metadata": {},
     "output_type": "execute_result"
    }
   ],
   "source": [
    "monthly_mean"
   ]
  },
  {
   "cell_type": "code",
   "execution_count": 160,
   "id": "63c30631",
   "metadata": {},
   "outputs": [
    {
     "name": "stdout",
     "output_type": "stream",
     "text": [
      "Jan:  56.6\n",
      "Feb:  72.7\n",
      "Mar:  116.5\n",
      "Apr:  153.2\n",
      "May:  191.1\n",
      "Jun:  198.5\n",
      "Jul:  193.8\n",
      "Aug:  184.3\n",
      "Sep:  138.3\n",
      "Oct:  104.6\n",
      "Nov:  67.4\n",
      "Dec:  52.4\n"
     ]
    }
   ],
   "source": [
    "month_names = ('Jan','Feb','Mar','Apr','May','Jun','Jul','Aug','Sep',\n",
    "              'Oct','Nov','Dec')\n",
    "for name,value in zip(month_names,monthly_mean):\n",
    "    print('%s:  %.1f'%(name,value))"
   ]
  },
  {
   "cell_type": "markdown",
   "id": "cf253aa8",
   "metadata": {},
   "source": [
    "2."
   ]
  },
  {
   "cell_type": "code",
   "execution_count": 161,
   "id": "f456c4d2",
   "metadata": {},
   "outputs": [
    {
     "name": "stdout",
     "output_type": "stream",
     "text": [
      "Jun has the best weather with 198.5 sun hours on average\n"
     ]
    }
   ],
   "source": [
    "max_value = max(monthly_mean)\n",
    "month = month_names[monthly_mean.index(max_value)]\n",
    "print(\"%s has the best weather with %.1f sun hours on average\"\n",
    "     %(month,max_value))"
   ]
  },
  {
   "cell_type": "code",
   "execution_count": null,
   "id": "b99bba4a",
   "metadata": {},
   "outputs": [],
   "source": []
  }
 ],
 "metadata": {
  "kernelspec": {
   "display_name": "Python 3 (ipykernel)",
   "language": "python",
   "name": "python3"
  },
  "language_info": {
   "codemirror_mode": {
    "name": "ipython",
    "version": 3
   },
   "file_extension": ".py",
   "mimetype": "text/x-python",
   "name": "python",
   "nbconvert_exporter": "python",
   "pygments_lexer": "ipython3",
   "version": "3.10.6"
  }
 },
 "nbformat": 4,
 "nbformat_minor": 5
}
