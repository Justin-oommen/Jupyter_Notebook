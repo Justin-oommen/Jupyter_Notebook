{
 "cells": [
  {
   "cell_type": "markdown",
   "id": "7bc331db",
   "metadata": {},
   "source": [
    "# 3. Functions and Branching"
   ]
  },
  {
   "cell_type": "markdown",
   "id": "425fc3e0",
   "metadata": {},
   "source": [
    "This chapter introduces two fundamental and extremely useful concepts in programming: **user-defined functions and branching of program flow**, the latter often referred to as if tests"
   ]
  },
  {
   "cell_type": "code",
   "execution_count": 2,
   "id": "3d1536e6",
   "metadata": {},
   "outputs": [],
   "source": [
    "def F(C):\n",
    "    return (9.0/5)*C + 32"
   ]
  },
  {
   "cell_type": "code",
   "execution_count": 2,
   "id": "31c82b67",
   "metadata": {},
   "outputs": [
    {
     "data": {
      "text/plain": [
       "212.0"
      ]
     },
     "execution_count": 2,
     "metadata": {},
     "output_type": "execute_result"
    }
   ],
   "source": [
    "F(100)"
   ]
  },
  {
   "cell_type": "code",
   "execution_count": 3,
   "id": "e730ab71",
   "metadata": {},
   "outputs": [
    {
     "name": "stdout",
     "output_type": "stream",
     "text": [
      "51.8\n"
     ]
    }
   ],
   "source": [
    "temp1 = F(100)\n",
    "a = 10\n",
    "temp2 = F(a)\n",
    "print(F(a+1))\n"
   ]
  },
  {
   "cell_type": "code",
   "execution_count": 3,
   "id": "810e6ca7",
   "metadata": {},
   "outputs": [],
   "source": [
    "Cdegrees = [i for i in range(0,110,10)]\n",
    "Fdegrees = [F(C) for C in Cdegrees]"
   ]
  },
  {
   "cell_type": "code",
   "execution_count": 5,
   "id": "f3e3669c",
   "metadata": {},
   "outputs": [
    {
     "name": "stdout",
     "output_type": "stream",
     "text": [
      "[32.0, 50.0, 68.0, 86.0, 104.0, 122.0, 140.0, 158.0, 176.0, 194.0, 212.0]\n"
     ]
    }
   ],
   "source": [
    "print(Fdegrees)"
   ]
  },
  {
   "cell_type": "code",
   "execution_count": 10,
   "id": "f81a1273",
   "metadata": {},
   "outputs": [],
   "source": [
    "def F2(C):\n",
    "    F_value =  (9.0/5)*C + 32\n",
    "    print(\"%.2f degree is %.2f Farenhiet \"%(C,F_value))"
   ]
  },
  {
   "cell_type": "code",
   "execution_count": 11,
   "id": "12ded45e",
   "metadata": {},
   "outputs": [
    {
     "name": "stdout",
     "output_type": "stream",
     "text": [
      "0.00 degree is 32.00 Farenhiet \n",
      "10.00 degree is 50.00 Farenhiet \n",
      "20.00 degree is 68.00 Farenhiet \n",
      "30.00 degree is 86.00 Farenhiet \n",
      "40.00 degree is 104.00 Farenhiet \n",
      "50.00 degree is 122.00 Farenhiet \n",
      "60.00 degree is 140.00 Farenhiet \n",
      "70.00 degree is 158.00 Farenhiet \n",
      "80.00 degree is 176.00 Farenhiet \n",
      "90.00 degree is 194.00 Farenhiet \n",
      "100.00 degree is 212.00 Farenhiet \n"
     ]
    }
   ],
   "source": [
    "for C in Cdegrees:\n",
    "    F2(C)"
   ]
  },
  {
   "cell_type": "code",
   "execution_count": null,
   "id": "0ac2f87d",
   "metadata": {},
   "outputs": [],
   "source": []
  },
  {
   "cell_type": "code",
   "execution_count": null,
   "id": "0785786b",
   "metadata": {},
   "outputs": [],
   "source": []
  }
 ],
 "metadata": {
  "kernelspec": {
   "display_name": "Python 3 (ipykernel)",
   "language": "python",
   "name": "python3"
  },
  "language_info": {
   "codemirror_mode": {
    "name": "ipython",
    "version": 3
   },
   "file_extension": ".py",
   "mimetype": "text/x-python",
   "name": "python",
   "nbconvert_exporter": "python",
   "pygments_lexer": "ipython3",
   "version": "3.10.6"
  }
 },
 "nbformat": 4,
 "nbformat_minor": 5
}
